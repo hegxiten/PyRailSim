{
 "cells": [
  {
   "cell_type": "code",
   "execution_count": 1,
   "metadata": {},
   "outputs": [],
   "source": [
    "from datetime import datetime, timedelta\n",
    "import numpy as np\n",
    "import random\n",
    "import networkx as nx\n",
    "\n",
    "from simulation_core.infrastructure import *\n",
    "from simulation_core.signaling import *\n",
    "from simulation_core.network import *\n",
    "from simulation_core.train import *\n",
    "from simulation_core.dispatching.Dispatcher import Dispatcher\n",
    "from simulation_test.sim import *\n",
    "\n",
    "from itertools import combinations, permutations\n",
    "\n",
    "import matplotlib.pyplot as plt\n",
    "import matplotlib.dates as mdates\n",
    "\n",
    "\n",
    "\n",
    "sim_init_time = datetime.strptime('2018-01-10 10:00:00', \"%Y-%m-%d %H:%M:%S\")\n",
    "sim_term_time = datetime.strptime('2018-01-10 15:30:00', \"%Y-%m-%d %H:%M:%S\")\n",
    "spd_container = [random.uniform(0.01, 0.02) for i in range(20)]\n",
    "acc_container = [0.5*random.uniform(2.78e-05*0.85, 2.78e-05*1.15) for i in range(20)]\n",
    "dcc_container = [0.2*random.uniform(2.78e-05*0.85, 2.78e-05*1.15) for i in range(20)]\n",
    "headway = 300 + random.random() * 400\n",
    "sys = System(sim_init_time, spd_container, acc_container, dcc_container,\n",
    "             term_time=sim_term_time,\n",
    "             dos_period=['2018-01-10 11:30:00', '2018-01-10 12:30:00'],  \n",
    "             dos_pos=(15,20),\n",
    "             headway=headway, \n",
    "             refresh_time=50)\n",
    "dp = Dispatcher(sys)\n",
    "# K165 = Train(sys, \n",
    "#              ((sys.signal_points[0],1),(sys.signal_points[1],0)),\n",
    "#              ((sys.signal_points[10],1),(None,None)),\n",
    "#              max_spd=random.choice(sys.spd_container),\n",
    "#              max_acc=random.choice(sys.acc_container),\n",
    "#              max_dcc=random.choice(sys.dcc_container),\n",
    "#              length=1)\n",
    "# T165 = Train(sys, \n",
    "#              ((None,None),(sys.signal_points[0],0)),\n",
    "#              ((sys.signal_points[10],1),(None,None)),\n",
    "#              max_spd=K165.max_spd*1.02,\n",
    "#              max_acc=random.choice(sys.acc_container),\n",
    "#              max_dcc=random.choice(sys.dcc_container),\n",
    "#              length=1)\n",
    "# K166 = Train(sys, \n",
    "#              ((sys.signal_points[10],0),(sys.signal_points[9],1)),\n",
    "#              ((sys.signal_points[0],0),(None,None)),\n",
    "#              max_spd=random.choice(sys.spd_container),\n",
    "#              max_acc=random.choice(sys.acc_container),\n",
    "#              max_dcc=random.choice(sys.dcc_container),\n",
    "#              length=1)\n",
    "# T166 = Train(sys, \n",
    "#              ((None,None),(sys.signal_points[10],1)),\n",
    "#              ((sys.signal_points[0],0),(None,None)),\n",
    "#              max_spd=K166.max_spd*1.02,\n",
    "#              max_acc=random.choice(sys.acc_container),\n",
    "#              max_dcc=random.choice(sys.dcc_container),\n",
    "#              length=1)"
   ]
  },
  {
   "cell_type": "code",
   "execution_count": null,
   "metadata": {
    "scrolled": false
   },
   "outputs": [
    {
     "name": "stdout",
     "output_type": "stream",
     "text": [
      "train idx: 0 occupying:[((None, None), (CtrlPnt10, 1))] head MP:50.00 rear MP:51.00, requested (1, 0) at 50.0\n",
      "\troute (1, 0) of CtrlPnt10 is opened\n",
      "train train idx: 0 occupying:[((None, None), (CtrlPnt10, 1))] head MP:50.00 rear MP:51.00 initiated, entering into Track <MP: 45.0~50.0 > <AutoPnt 9 port: 1~CtrlPnt10 port: 0> key: 0\n",
      "\troute (1, 0) of CtrlPnt10 is closed\n",
      "train idx: 0 occupying:[((CtrlPnt10, 0), (AutoPnt 9, 1)), ((None, None), (CtrlPnt10, 1))] head MP:49.95 rear MP:50.95, requested (1, 0) at 40.0\n",
      "\troute (1, 0) of CtrlPnt 8 is opened\n",
      "train idx: 1 occupying:[((None, None), (CtrlPnt10, 1))] head MP:50.00 rear MP:51.00, requested (1, 0) at 50.0\n",
      "\troute (1, 0) of CtrlPnt10 is opened\n",
      "train train idx: 1 occupying:[((None, None), (CtrlPnt10, 1))] head MP:50.00 rear MP:51.00 initiated, entering into Track <MP: 45.0~50.0 > <AutoPnt 9 port: 1~CtrlPnt10 port: 0> key: 0\n",
      "\troute (1, 0) of CtrlPnt10 is closed\n",
      "\troute (1, 0) of CtrlPnt 8 is closed\n",
      "train idx: 0 occupying:[((CtrlPnt 8, 0), (CtrlPnt 7, 1)), ((AutoPnt 9, 0), (CtrlPnt 8, 1))] head MP:39.79 rear MP:40.79, requested (1, 2) at 35.0\n",
      "\troute (1, 2) of CtrlPnt 7 is opened\n",
      "train idx: 1 occupying:[((CtrlPnt10, 0), (AutoPnt 9, 1))] head MP:47.78 rear MP:48.78, requested (1, 2) at 40.0\n",
      "\troute (1, 2) of CtrlPnt 8 is opened\n",
      "train idx: 2 occupying:[((None, None), (CtrlPnt10, 1))] head MP:50.00 rear MP:51.00, requested (1, 0) at 50.0\n",
      "\troute (1, 0) of CtrlPnt10 is opened\n",
      "train train idx: 2 occupying:[((None, None), (CtrlPnt10, 1))] head MP:50.00 rear MP:51.00 initiated, entering into Track <MP: 45.0~50.0 > <AutoPnt 9 port: 1~CtrlPnt10 port: 0> key: 0\n",
      "\troute (1, 0) of CtrlPnt10 is closed\n",
      "\troute (1, 2) of CtrlPnt 7 is closed\n",
      "train idx: 0 occupying:[((CtrlPnt 7, 2), (CtrlPnt 6, 3)), ((CtrlPnt 8, 0), (CtrlPnt 7, 1))] head MP:34.79 rear MP:35.79, requested (3, 0) at 30.0\n",
      "\troute (3, 0) of CtrlPnt 6 is opened\n",
      "\troute (1, 2) of CtrlPnt 8 is closed\n",
      "train idx: 1 occupying:[((CtrlPnt 8, 2), (AutoPnt12, 1))] head MP:36.95 rear MP:37.95, requested (3, 0) at 25.0\n",
      "\troute (3, 0) of CtrlPnt 5 is opened\n",
      "\troute (3, 0) of CtrlPnt 6 is closed\n",
      "train idx: 2 occupying:[((CtrlPnt10, 0), (AutoPnt 9, 1))] head MP:45.74 rear MP:46.74, requested (1, 0) at 40.0\n",
      "\troute (1, 0) of CtrlPnt 8 is opened\n",
      "train idx: 3 occupying:[((None, None), (CtrlPnt10, 1))] head MP:50.00 rear MP:51.00, requested (1, 0) at 50.0\n",
      "\troute (1, 0) of CtrlPnt10 is opened\n",
      "train train idx: 3 occupying:[((None, None), (CtrlPnt10, 1))] head MP:50.00 rear MP:51.00 initiated, entering into Track <MP: 45.0~50.0 > <AutoPnt 9 port: 1~CtrlPnt10 port: 0> key: 0\n",
      "\troute (1, 0) of CtrlPnt10 is closed\n",
      "\troute (3, 0) of CtrlPnt 5 is closed\n",
      "train idx: 1 occupying:[((CtrlPnt 5, 0), (CtrlPnt 4, 1)), ((AutoPnt11, 0), (CtrlPnt 5, 3))] head MP:24.81 rear MP:25.81, requested (1, 2) at 20.0\n",
      "\troute (1, 2) of CtrlPnt 4 is opened\n",
      "\troute (1, 0) of CtrlPnt 8 is closed\n",
      "train idx: 0 occupying:[((CtrlPnt 6, 0), (CtrlPnt 5, 1))] head MP:25.62 rear MP:26.62, requested (1, 0) at 25.0\n",
      "\troute (1, 0) of CtrlPnt 5 is opened\n",
      "train idx: 2 occupying:[((CtrlPnt 8, 0), (CtrlPnt 7, 1)), ((AutoPnt 9, 0), (CtrlPnt 8, 1))] head MP:39.84 rear MP:40.84, requested (1, 0) at 35.0\n",
      "\troute (1, 0) of CtrlPnt 7 is opened\n",
      "\troute (1, 2) of CtrlPnt 4 is closed\n",
      "train idx: 4 occupying:[((None, None), (CtrlPnt10, 1))] head MP:50.00 rear MP:51.00, requested (1, 0) at 50.0\n",
      "\troute (1, 0) of CtrlPnt10 is opened\n",
      "train train idx: 4 occupying:[((None, None), (CtrlPnt10, 1))] head MP:50.00 rear MP:51.00 initiated, entering into Track <MP: 45.0~50.0 > <AutoPnt 9 port: 1~CtrlPnt10 port: 0> key: 0\n",
      "\troute (1, 0) of CtrlPnt10 is closed\n",
      "\troute (1, 0) of CtrlPnt 7 is closed\n",
      "\troute (1, 0) of CtrlPnt 5 is closed\n",
      "train idx: 3 occupying:[((AutoPnt 9, 0), (CtrlPnt 8, 1))] head MP:42.93 rear MP:43.93, requested (1, 2) at 40.0\n",
      "\troute (1, 2) of CtrlPnt 8 is opened\n",
      "train idx: 0 occupying:[((CtrlPnt 5, 0), (CtrlPnt 4, 1)), ((CtrlPnt 6, 0), (CtrlPnt 5, 1))] head MP:25.00 rear MP:26.00, requested (1, 0) at 20.0\n",
      "\troute (1, 0) of CtrlPnt 4 is opened\n",
      "\troute (1, 2) of CtrlPnt 8 is closed\n",
      "train idx: 3 occupying:[((CtrlPnt 8, 2), (AutoPnt12, 1)), ((AutoPnt 9, 0), (CtrlPnt 8, 1))] head MP:39.88 rear MP:40.88, requested (3, 0) at 25.0\n",
      "\troute (3, 0) of CtrlPnt 5 is opened\n",
      "\troute (1, 0) of CtrlPnt 4 is closed\n",
      "train idx: 0 occupying:[((CtrlPnt 4, 0), (CtrlPnt 3, 1)), ((CtrlPnt 5, 0), (CtrlPnt 4, 1))] head MP:19.82 rear MP:20.82, requested (1, 0) at 15.0\n",
      "\troute (1, 0) of CtrlPnt 3 is opened\n",
      "train idx: 5 occupying:[((None, None), (CtrlPnt10, 1))] head MP:50.00 rear MP:51.00, requested (1, 0) at 50.0\n",
      "\troute (1, 0) of CtrlPnt10 is opened\n",
      "train train idx: 5 occupying:[((None, None), (CtrlPnt10, 1))] head MP:50.00 rear MP:51.00 initiated, entering into Track <MP: 45.0~50.0 > <AutoPnt 9 port: 1~CtrlPnt10 port: 0> key: 0\n",
      "\troute (1, 0) of CtrlPnt10 is closed\n",
      "train idx: 2 occupying:[((CtrlPnt 7, 0), (CtrlPnt 6, 1))] head MP:30.03 rear MP:31.03, requested (1, 0) at 30.0\n",
      "\troute (1, 0) of CtrlPnt 6 is opened\n",
      "\troute (1, 0) of CtrlPnt 6 is closed\n",
      "train idx: 4 occupying:[((AutoPnt 9, 0), (CtrlPnt 8, 1))] head MP:41.81 rear MP:42.81, requested (1, 0) at 40.0\n",
      "\troute (1, 0) of CtrlPnt 8 is opened\n",
      "\troute (1, 0) of CtrlPnt 8 is closed\n",
      "train idx: 4 occupying:[((CtrlPnt 8, 0), (CtrlPnt 7, 1)), ((AutoPnt 9, 0), (CtrlPnt 8, 1))] head MP:39.87 rear MP:40.87, requested (1, 2) at 35.0\n",
      "\troute (1, 2) of CtrlPnt 7 is opened\n",
      "\troute (1, 0) of CtrlPnt 3 is closed\n",
      "train idx: 0 occupying:[((CtrlPnt 3, 0), (CtrlPnt 2, 1)), ((CtrlPnt 4, 0), (CtrlPnt 3, 1))] head MP:14.82 rear MP:15.82, requested (1, 0) at 10.0\n",
      "\troute (1, 0) of CtrlPnt 2 is opened\n",
      "\troute (3, 0) of CtrlPnt 5 is closed\n",
      "train idx: 3 occupying:[((CtrlPnt 5, 0), (CtrlPnt 4, 1)), ((AutoPnt11, 0), (CtrlPnt 5, 3))] head MP:24.89 rear MP:25.89, requested (1, 0) at 20.0\n",
      "\troute (1, 0) of CtrlPnt 4 is opened\n",
      "train idx: 2 occupying:[((CtrlPnt 6, 0), (CtrlPnt 5, 1))] head MP:26.89 rear MP:27.89, requested (1, 0) at 25.0\n",
      "\troute (1, 0) of CtrlPnt 5 is opened\n",
      "train idx: 6 occupying:[((None, None), (CtrlPnt10, 1))] head MP:50.00 rear MP:51.00, requested (1, 0) at 50.0\n",
      "\troute (1, 0) of CtrlPnt10 is opened\n",
      "train train idx: 6 occupying:[((None, None), (CtrlPnt10, 1))] head MP:50.00 rear MP:51.00 initiated, entering into Track <MP: 45.0~50.0 > <AutoPnt 9 port: 1~CtrlPnt10 port: 0> key: 0\n",
      "\troute (1, 0) of CtrlPnt10 is closed\n",
      "\troute (1, 2) of CtrlPnt 7 is closed\n",
      "\troute (1, 0) of CtrlPnt 2 is closed\n",
      "train idx: 0 occupying:[((CtrlPnt 2, 0), (AutoPnt 1, 1)), ((CtrlPnt 3, 0), (CtrlPnt 2, 1))] head MP: 9.82 rear MP:10.82, requested (1, 0) at 0.0\n",
      "\troute (1, 0) of CtrlPnt 0 is opened\n",
      "\troute (1, 0) of CtrlPnt 4 is closed\n",
      "train idx: 3 occupying:[((CtrlPnt 4, 0), (CtrlPnt 3, 1)), ((CtrlPnt 5, 0), (CtrlPnt 4, 1))] head MP:19.89 rear MP:20.89, requested (1, 0) at 15.0\n",
      "\troute (1, 0) of CtrlPnt 3 is opened\n",
      "\troute (1, 0) of CtrlPnt 5 is closed\n",
      "train idx: 5 occupying:[((AutoPnt 9, 0), (CtrlPnt 8, 1))] head MP:40.10 rear MP:41.10, requested (1, 0) at 40.0\n",
      "\troute (1, 0) of CtrlPnt 8 is opened\n",
      "\troute (1, 0) of CtrlPnt 8 is closed\n",
      "train idx: 2 occupying:[((CtrlPnt 5, 0), (CtrlPnt 4, 1)), ((CtrlPnt 6, 0), (CtrlPnt 5, 1))] head MP:24.99 rear MP:25.99, requested (1, 0) at 20.0\n",
      "\troute (1, 0) of CtrlPnt 4 is opened\n",
      "train idx: 5 occupying:[((CtrlPnt 8, 0), (CtrlPnt 7, 1)), ((AutoPnt 9, 0), (CtrlPnt 8, 1))] head MP:39.98 rear MP:40.98, requested (1, 0) at 35.0\n",
      "\troute (1, 0) of CtrlPnt 7 is opened\n",
      "train idx: 7 occupying:[((None, None), (CtrlPnt10, 1))] head MP:50.00 rear MP:51.00, requested (1, 0) at 50.0\n",
      "\troute (1, 0) of CtrlPnt10 is opened\n",
      "train train idx: 7 occupying:[((None, None), (CtrlPnt10, 1))] head MP:50.00 rear MP:51.00 initiated, entering into Track <MP: 45.0~50.0 > <AutoPnt 9 port: 1~CtrlPnt10 port: 0> key: 0\n",
      "\troute (1, 0) of CtrlPnt10 is closed\n",
      "\troute (1, 0) of CtrlPnt 0 is closed\n",
      "\troute (1, 0) of CtrlPnt 3 is closed\n",
      "train idx: 3 occupying:[((CtrlPnt 3, 0), (CtrlPnt 2, 1)), ((CtrlPnt 4, 0), (CtrlPnt 3, 1))] head MP:14.89 rear MP:15.89, requested (1, 0) at 10.0\n",
      "\troute (1, 0) of CtrlPnt 2 is opened\n",
      "train idx: 1 occupying:[((CtrlPnt 4, 2), (CtrlPnt 3, 3))] head MP:15.05 rear MP:16.05, requested (3, 0) at 15.0\n",
      "\troute (3, 0) of CtrlPnt 3 is opened\n",
      "\troute (1, 0) of CtrlPnt 7 is closed\n"
     ]
    },
    {
     "name": "stdout",
     "output_type": "stream",
     "text": [
      "train idx: 5 occupying:[((CtrlPnt 7, 0), (CtrlPnt 6, 1)), ((CtrlPnt 8, 0), (CtrlPnt 7, 1))] head MP:34.93 rear MP:35.93, requested (1, 0) at 30.0\n",
      "\troute (1, 0) of CtrlPnt 6 is opened\n",
      "\troute (1, 0) of CtrlPnt 4 is closed\n"
     ]
    }
   ],
   "source": [
    "def launch(downtrain=True):\n",
    "    while sys.sys_time - sys.init_time <= sys.term_time - sys.init_time:\n",
    "        _semaphore_to_return = False\n",
    "        for t in sys.trains:\n",
    "            t.request_routing()\n",
    "            t.update_acc()\n",
    "        if sys.sys_time+sys.refresh_time - sys.last_train_init_time >= sys.headway:\n",
    "            if downtrain:\n",
    "                if not sys.signal_points[0].curr_train_with_route.keys():\n",
    "                    if all([t.curr_routing_path_segment != ((None,None),(sys.signal_points[0],0)) for t in sys.trains]):\n",
    "                        if not sys.signal_points[0].track_by_port[1].trains:\n",
    "                            t = sys.generate_train( sys.signal_points[0],0,\n",
    "                                                    sys.signal_points[10],1,\n",
    "                                                    length=1)\n",
    "            else:\n",
    "                if not sys.signal_points[10].curr_train_with_route.keys():\n",
    "                    if all([t.curr_routing_path_segment != ((None,None),(sys.signal_points[10],1)) for t in sys.trains]):\n",
    "                        if not sys.signal_points[10].track_by_port[0].trains:\n",
    "                            t = sys.generate_train( sys.signal_points[10],1,\n",
    "                                                    sys.signal_points[0],0,\n",
    "                                                    length=1)\n",
    "        sys.sys_time+=sys.refresh_time\n",
    "launch(downtrain=False)"
   ]
  },
  {
   "cell_type": "code",
   "execution_count": null,
   "metadata": {
    "scrolled": false
   },
   "outputs": [],
   "source": [
    "string_diagram(sys)"
   ]
  },
  {
   "cell_type": "code",
   "execution_count": null,
   "metadata": {},
   "outputs": [],
   "source": [
    "speed_curve(sys,sys.trains[3])"
   ]
  },
  {
   "cell_type": "code",
   "execution_count": null,
   "metadata": {},
   "outputs": [],
   "source": [
    "K165.curr_home_sig.route"
   ]
  },
  {
   "cell_type": "code",
   "execution_count": null,
   "metadata": {},
   "outputs": [],
   "source": [
    "dp.get_route(sys.signal_points[8], 0, sys.signal_points[9],1,mainline=False)"
   ]
  },
  {
   "cell_type": "code",
   "execution_count": null,
   "metadata": {},
   "outputs": [],
   "source": [
    "dp.get_all_routes(sys.signal_points[8], 1, sys.signal_points[11], 0)"
   ]
  },
  {
   "cell_type": "code",
   "execution_count": null,
   "metadata": {
    "scrolled": true
   },
   "outputs": [],
   "source": [
    "shortest_path(sys.G_origin, sys.signal_points[8], sys.signal_points[8])"
   ]
  },
  {
   "cell_type": "code",
   "execution_count": null,
   "metadata": {},
   "outputs": [],
   "source": [
    "dp.get_route(sys.signal_points[8], 1, sys.signal_points[11], 0)"
   ]
  },
  {
   "cell_type": "code",
   "execution_count": null,
   "metadata": {},
   "outputs": [],
   "source": []
  }
 ],
 "metadata": {
  "kernelspec": {
   "display_name": "Python 3",
   "language": "python",
   "name": "python3"
  },
  "language_info": {
   "codemirror_mode": {
    "name": "ipython",
    "version": 3
   },
   "file_extension": ".py",
   "mimetype": "text/x-python",
   "name": "python",
   "nbconvert_exporter": "python",
   "pygments_lexer": "ipython3",
   "version": "3.7.3"
  }
 },
 "nbformat": 4,
 "nbformat_minor": 2
}
