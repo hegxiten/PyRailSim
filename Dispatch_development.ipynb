{
 "cells": [
  {
   "cell_type": "code",
   "execution_count": 1,
   "metadata": {},
   "outputs": [],
   "source": [
    "from datetime import datetime, timedelta\n",
    "import numpy as np\n",
    "import random\n",
    "import networkx as nx\n",
    "from itertools import combinations, permutations\n",
    "\n",
    "import matplotlib.pyplot as plt\n",
    "import matplotlib.dates as mdates\n",
    "\n",
    "from collections import defaultdict\n",
    "\n",
    "import copy\n",
    "\n",
    "from simulation_core.infrastructure import *\n",
    "from simulation_core.signaling import *\n",
    "from simulation_core.network import *\n",
    "from simulation_core.train.Train import Train\n",
    "from simulation_core.train.TrainList import TrainList\n",
    "from simulation_core.network.System.System import System\n",
    "\n",
    "from simulation_test.sim import *\n",
    "from simulation_core.network.network_utils import all_simple_paths, shortest_path\n",
    "\n",
    "from simulation_test.simulation_configs import *\n",
    "\n",
    "\n",
    "\n",
    "\n",
    "sys = System(sim_init_time, spd_container, acc_container, dcc_container,\n",
    "             term_time=sim_term_time,\n",
    "             dos_period=dos_period,  \n",
    "             dos_pos=dos_pos,\n",
    "             headway=headway, \n",
    "             refresh_time=refresh_time)"
   ]
  },
  {
   "cell_type": "code",
   "execution_count": 2,
   "metadata": {
    "pycharm": {
     "name": "#%%\n"
    },
    "scrolled": false
   },
   "outputs": [],
   "source": [
    "_exception = None\n",
    "def launch(sys, downtrain=True, same_train_set=True):\n",
    "    global _exception\n",
    "    try:\n",
    "        spd_list, acc_list, dcc_list = max_spd_list.copy(), max_acc_list.copy(), max_dcc_list.copy()\n",
    "        while sys.sys_time - sys.init_time <= sys.term_time - sys.init_time:\n",
    "            _semaphore_to_return = False\n",
    "            for t in sys.trains:\n",
    "                sys.dispatcher.request_routing(t)\n",
    "                t.move()\n",
    "            if sys.sys_time+sys.refresh_time - sys.last_train_init_time >= sys.headway:\n",
    "                if downtrain:\n",
    "                    if not sys.signal_points[0].curr_train_with_route.keys():\n",
    "                        if all([t.curr_routing_path_segment != ((None,None),(sys.signal_points[0],0)) for t in sys.trains]):\n",
    "                            if not sys.signal_points[0].track_by_port[1].trains:\n",
    "                                if same_train_set:\n",
    "                                    t = sys.dispatcher.generate_train(\n",
    "                                        sys.signal_points[0],0,\n",
    "                                        sys.signal_points[10],1,\n",
    "                                        max_spd=spd_list.pop(0),\n",
    "                                        max_acc=acc_list.pop(0),\n",
    "                                        max_dcc=dcc_list.pop(0))\n",
    "                                else:\n",
    "                                    t = sys.dispatcher.generate_train(\n",
    "                                        sys.signal_points[0],0,\n",
    "                                        sys.signal_points[10],1,\n",
    "                                        length=1)\n",
    "                else:\n",
    "                    if not sys.signal_points[10].curr_train_with_route.keys():\n",
    "                        if all([t.curr_routing_path_segment != ((None,None),(sys.signal_points[10],1)) for t in sys.trains]):\n",
    "                            if not sys.signal_points[10].track_by_port[0].trains:\n",
    "                                if same_train_set:\n",
    "                                    t = sys.dispatcher.generate_train(\n",
    "                                        sys.signal_points[10],1,\n",
    "                                        sys.signal_points[0],0,\n",
    "                                        max_spd=spd_list.pop(0),\n",
    "                                        max_acc=acc_list.pop(0),\n",
    "                                        max_dcc=dcc_list.pop(0))\n",
    "                                else:\n",
    "                                    t = sys.dispatcher.generate_train(\n",
    "                                        sys.signal_points[10],1,\n",
    "                                        sys.signal_points[0],0,\n",
    "                                        length=1)\n",
    "            sys.sys_time+=sys.refresh_time\n",
    "    except Exception as e:\n",
    "        _exception = e\n",
    "        print('{0} [ERROR]: Exception: {1}'.format(timestamper(sys.sys_time), e))\n",
    "    return sys"
   ]
  },
  {
   "cell_type": "code",
   "execution_count": 3,
   "metadata": {
    "scrolled": false
   },
   "outputs": [
    {
     "name": "stdout",
     "output_type": "stream",
     "text": [
      "[2018-01-10 10:04:10] [INFO]: new train generated WITHOUT init track.\n",
      "[2018-01-10 10:05:00] [INFO]: Train idx: 0 occupying:[((None, None), (CtrlPnt 0, 0))] head MP: 0.00 rear MP:-1.00, \n",
      "\trequested (0, 1) at 0.0\n",
      "[2018-01-10 10:05:00] [INFO]: route (0, 1) of CtrlPnt 0 is opened\n",
      "[2018-01-10 10:05:00] [INFO]: Train idx: 0 occupying:[((None, None), (CtrlPnt 0, 0))] head MP: 0.00 rear MP:-1.00 initiated, \n",
      "\tentering into Track <MP:  0.0~5.0  > <CtrlPnt 0 port: 1~AutoPnt 1 port: 0> key: 0\n",
      "[2018-01-10 10:05:00] [INFO]: route (0, 1) of CtrlPnt 0 is closed\n",
      "[2018-01-10 10:05:50] [INFO]: Train idx: 0 occupying:[((CtrlPnt 0, 1), (AutoPnt 1, 0)), ((None, None), (CtrlPnt 0, 0))] head MP: 0.00 rear MP:-1.00, \n",
      "\trequested (0, 1) at 10.0\n",
      "[2018-01-10 10:05:50] [INFO]: route (0, 1) of CtrlPnt 2 is opened\n",
      "[2018-01-10 10:20:50] [INFO]: new train generated WITHOUT init track.\n",
      "[2018-01-10 10:21:40] [INFO]: Train idx: 1 occupying:[((None, None), (CtrlPnt 0, 0))] head MP: 0.00 rear MP:-1.00, \n",
      "\trequested (0, 1) at 0.0\n",
      "[2018-01-10 10:21:40] [INFO]: route (0, 1) of CtrlPnt 0 is opened\n",
      "[2018-01-10 10:21:40] [INFO]: Train idx: 1 occupying:[((None, None), (CtrlPnt 0, 0))] head MP: 0.00 rear MP:-1.00 initiated, \n",
      "\tentering into Track <MP:  0.0~5.0  > <CtrlPnt 0 port: 1~AutoPnt 1 port: 0> key: 0\n",
      "[2018-01-10 10:21:40] [INFO]: route (0, 1) of CtrlPnt 0 is closed\n",
      "[2018-01-10 10:28:20] [INFO]: route (0, 1) of CtrlPnt 2 is closed\n",
      "[2018-01-10 10:29:10] [INFO]: Train idx: 0 occupying:[((CtrlPnt 2, 1), (CtrlPnt 3, 0)), ((AutoPnt 1, 1), (CtrlPnt 2, 0))] head MP:10.21 rear MP: 9.21, \n",
      "\trequested (0, 1) at 15.0\n",
      "[2018-01-10 10:29:10] [INFO]: route (0, 1) of CtrlPnt 3 is opened\n",
      "[2018-01-10 10:30:50] [INFO]: Train idx: 1 occupying:[((CtrlPnt 0, 1), (AutoPnt 1, 0))] head MP: 1.90 rear MP: 0.90, \n",
      "\trequested (0, 1) at 10.0\n",
      "[2018-01-10 10:30:50] [INFO]: route (0, 1) of CtrlPnt 2 is opened\n",
      "[2018-01-10 10:42:30] [INFO]: new train generated WITHOUT init track.\n",
      "[2018-01-10 10:43:20] [INFO]: route (0, 1) of CtrlPnt 3 is closed\n",
      "[2018-01-10 10:43:20] [INFO]: Train idx: 2 occupying:[((None, None), (CtrlPnt 0, 0))] head MP: 0.00 rear MP:-1.00, \n",
      "\trequested (0, 1) at 0.0\n",
      "[2018-01-10 10:43:20] [INFO]: route (0, 1) of CtrlPnt 0 is opened\n",
      "[2018-01-10 10:43:20] [INFO]: Train idx: 2 occupying:[((None, None), (CtrlPnt 0, 0))] head MP: 0.00 rear MP:-1.00 initiated, \n",
      "\tentering into Track <MP:  0.0~5.0  > <CtrlPnt 0 port: 1~AutoPnt 1 port: 0> key: 0\n",
      "[2018-01-10 10:43:20] [INFO]: route (0, 1) of CtrlPnt 0 is closed\n",
      "[2018-01-10 10:55:00] [INFO]: route (0, 1) of CtrlPnt 2 is closed\n",
      "[2018-01-10 10:55:50] [INFO]: Train idx: 1 occupying:[((CtrlPnt 2, 1), (CtrlPnt 3, 0)), ((AutoPnt 1, 1), (CtrlPnt 2, 0))] head MP:10.23 rear MP: 9.23, \n",
      "\trequested (0, 3) at 15.0\n",
      "[2018-01-10 10:55:50] [INFO]: route (0, 3) of CtrlPnt 3 is opened\n",
      "[2018-01-10 10:57:30] [INFO]: Train idx: 2 occupying:[((CtrlPnt 0, 1), (AutoPnt 1, 0))] head MP: 3.66 rear MP: 2.66, \n",
      "\trequested (0, 1) at 10.0\n",
      "[2018-01-10 10:57:30] [INFO]: route (0, 1) of CtrlPnt 2 is opened\n",
      "[2018-01-10 11:04:10] [INFO]: new train generated WITHOUT init track.\n",
      "[2018-01-10 11:05:00] [INFO]: Train idx: 3 occupying:[((None, None), (CtrlPnt 0, 0))] head MP: 0.00 rear MP:-1.00, \n",
      "\trequested (0, 1) at 0.0\n",
      "[2018-01-10 11:05:00] [INFO]: route (0, 1) of CtrlPnt 0 is opened\n",
      "[2018-01-10 11:05:00] [INFO]: Train idx: 3 occupying:[((None, None), (CtrlPnt 0, 0))] head MP: 0.00 rear MP:-1.00 initiated, \n",
      "\tentering into Track <MP:  0.0~5.0  > <CtrlPnt 0 port: 1~AutoPnt 1 port: 0> key: 0\n",
      "[2018-01-10 11:05:00] [INFO]: route (0, 1) of CtrlPnt 0 is closed\n",
      "[2018-01-10 11:10:00] [INFO]: route (0, 3) of CtrlPnt 3 is closed\n",
      "[2018-01-10 11:10:50] [INFO]: Train idx: 1 occupying:[((CtrlPnt 3, 3), (CtrlPnt 4, 2)), ((CtrlPnt 2, 1), (CtrlPnt 3, 0))] head MP:15.23 rear MP:14.23, \n",
      "\trequested (2, 1) at 20.0\n",
      "[2018-01-10 11:10:50] [INFO]: route (2, 1) of CtrlPnt 4 is opened\n",
      "[2018-01-10 11:15:50] [INFO]: route (0, 1) of CtrlPnt 2 is closed\n",
      "[2018-01-10 11:16:40] [INFO]: Train idx: 2 occupying:[((CtrlPnt 2, 1), (CtrlPnt 3, 0)), ((AutoPnt 1, 1), (CtrlPnt 2, 0))] head MP:10.05 rear MP: 9.05, \n",
      "\trequested (0, 1) at 15.0\n",
      "[2018-01-10 11:16:40] [INFO]: route (0, 1) of CtrlPnt 3 is opened\n",
      "[2018-01-10 11:19:10] [INFO]: Train idx: 3 occupying:[((CtrlPnt 0, 1), (AutoPnt 1, 0))] head MP: 3.47 rear MP: 2.47, \n",
      "\trequested (0, 1) at 10.0\n",
      "[2018-01-10 11:19:10] [INFO]: route (0, 1) of CtrlPnt 2 is opened\n",
      "[2018-01-10 11:25:00] [INFO]: route (2, 1) of CtrlPnt 4 is closed\n",
      "[2018-01-10 11:25:50] [INFO]: Train idx: 1 occupying:[((CtrlPnt 4, 1), (CtrlPnt 5, 0)), ((CtrlPnt 3, 3), (CtrlPnt 4, 2))] head MP:20.23 rear MP:19.23, \n",
      "\trequested (0, 1) at 25.0\n",
      "[2018-01-10 11:25:50] [INFO]: route (0, 1) of CtrlPnt 5 is opened\n",
      "[2018-01-10 11:26:40] [INFO]: new train generated WITHOUT init track.\n",
      "[2018-01-10 11:27:30] [INFO]: Train idx: 4 occupying:[((None, None), (CtrlPnt 0, 0))] head MP: 0.00 rear MP:-1.00, \n",
      "\trequested (0, 1) at 0.0\n",
      "[2018-01-10 11:27:30] [INFO]: route (0, 1) of CtrlPnt 0 is opened\n",
      "[2018-01-10 11:27:30] [INFO]: Train idx: 4 occupying:[((None, None), (CtrlPnt 0, 0))] head MP: 0.00 rear MP:-1.00 initiated, \n",
      "\tentering into Track <MP:  0.0~5.0  > <CtrlPnt 0 port: 1~AutoPnt 1 port: 0> key: 0\n",
      "[2018-01-10 11:27:30] [INFO]: route (0, 1) of CtrlPnt 0 is closed\n",
      "[2018-01-10 11:28:20] [INFO]: Train idx: 0 occupying:[((CtrlPnt 3, 1), (CtrlPnt 4, 0))] head MP:19.98 rear MP:18.98, \n",
      "\trequested (0, 1) at 20.0\n",
      "[2018-01-10 11:28:20] [INFO]: route (0, 1) of CtrlPnt 4 is opened\n"
     ]
    },
    {
     "name": "stderr",
     "output_type": "stream",
     "text": [
      "No handles with labels found to put in legend.\n"
     ]
    },
    {
     "name": "stdout",
     "output_type": "stream",
     "text": [
      "[2018-01-10 11:35:50] [ERROR]: Exception: \n",
      "\tAssertion Error: braking distance 0.0345679012345679 at 14.990073779589434 \n",
      "\tis greater than distance (0.009926220410566344) to current signal HomeSig port: 0 of CtrlPnt 3, aspect Aspect: r, \t route None, target speed 0.0 mph\n",
      "\tTrain idx: 2 occupying:[((CtrlPnt 2, 1), (CtrlPnt 3, 0))] head MP:14.99 rear MP:13.99\n"
     ]
    },
    {
     "data": {
      "image/png": "[encoded data removed]",
      "text/plain": [
       "<Figure size 1200x800 with 1 Axes>"
      ]
     },
     "metadata": {
      "needs_background": "light"
     },
     "output_type": "display_data"
    },
    {
     "ename": "AssertionError",
     "evalue": "\n\tAssertion Error: braking distance 0.0345679012345679 at 14.990073779589434 \n\tis greater than distance (0.009926220410566344) to current signal HomeSig port: 0 of CtrlPnt 3, aspect Aspect: r, \t route None, target speed 0.0 mph\n\tTrain idx: 2 occupying:[((CtrlPnt 2, 1), (CtrlPnt 3, 0))] head MP:14.99 rear MP:13.99",
     "output_type": "error",
     "traceback": [
      "\u001b[1;31m---------------------------------------------------------------------------\u001b[0m",
      "\u001b[1;31mAssertionError\u001b[0m                            Traceback (most recent call last)",
      "\u001b[1;32m<ipython-input-3-83a1249a2110>\u001b[0m in \u001b[0;36m<module>\u001b[1;34m\u001b[0m\n\u001b[0;32m      3\u001b[0m \u001b[0mstring_diagram\u001b[0m\u001b[1;33m(\u001b[0m\u001b[0msys\u001b[0m\u001b[1;33m)\u001b[0m\u001b[1;33m\u001b[0m\u001b[1;33m\u001b[0m\u001b[0m\n\u001b[0;32m      4\u001b[0m \u001b[1;32mif\u001b[0m \u001b[0m_exception\u001b[0m\u001b[1;33m:\u001b[0m\u001b[1;33m\u001b[0m\u001b[1;33m\u001b[0m\u001b[0m\n\u001b[1;32m----> 5\u001b[1;33m     \u001b[1;32mraise\u001b[0m \u001b[0m_exception\u001b[0m\u001b[1;33m\u001b[0m\u001b[1;33m\u001b[0m\u001b[0m\n\u001b[0m",
      "\u001b[1;32m<ipython-input-2-8bbfc3266184>\u001b[0m in \u001b[0;36mlaunch\u001b[1;34m(sys, downtrain, same_train_set)\u001b[0m\n\u001b[0;32m      8\u001b[0m             \u001b[1;32mfor\u001b[0m \u001b[0mt\u001b[0m \u001b[1;32min\u001b[0m \u001b[0msys\u001b[0m\u001b[1;33m.\u001b[0m\u001b[0mtrains\u001b[0m\u001b[1;33m:\u001b[0m\u001b[1;33m\u001b[0m\u001b[1;33m\u001b[0m\u001b[0m\n\u001b[0;32m      9\u001b[0m                 \u001b[0msys\u001b[0m\u001b[1;33m.\u001b[0m\u001b[0mdispatcher\u001b[0m\u001b[1;33m.\u001b[0m\u001b[0mrequest_routing\u001b[0m\u001b[1;33m(\u001b[0m\u001b[0mt\u001b[0m\u001b[1;33m)\u001b[0m\u001b[1;33m\u001b[0m\u001b[1;33m\u001b[0m\u001b[0m\n\u001b[1;32m---> 10\u001b[1;33m                 \u001b[0mt\u001b[0m\u001b[1;33m.\u001b[0m\u001b[0mmove\u001b[0m\u001b[1;33m(\u001b[0m\u001b[1;33m)\u001b[0m\u001b[1;33m\u001b[0m\u001b[1;33m\u001b[0m\u001b[0m\n\u001b[0m\u001b[0;32m     11\u001b[0m             \u001b[1;32mif\u001b[0m \u001b[0msys\u001b[0m\u001b[1;33m.\u001b[0m\u001b[0msys_time\u001b[0m\u001b[1;33m+\u001b[0m\u001b[0msys\u001b[0m\u001b[1;33m.\u001b[0m\u001b[0mrefresh_time\u001b[0m \u001b[1;33m-\u001b[0m \u001b[0msys\u001b[0m\u001b[1;33m.\u001b[0m\u001b[0mlast_train_init_time\u001b[0m \u001b[1;33m>=\u001b[0m \u001b[0msys\u001b[0m\u001b[1;33m.\u001b[0m\u001b[0mheadway\u001b[0m\u001b[1;33m:\u001b[0m\u001b[1;33m\u001b[0m\u001b[1;33m\u001b[0m\u001b[0m\n\u001b[0;32m     12\u001b[0m                 \u001b[1;32mif\u001b[0m \u001b[0mdowntrain\u001b[0m\u001b[1;33m:\u001b[0m\u001b[1;33m\u001b[0m\u001b[1;33m\u001b[0m\u001b[0m\n",
      "\u001b[1;32m~\\Documents\\GitHub\\PyRailSim-SchedulingEngine\\simulation_core\\train\\Train.py\u001b[0m in \u001b[0;36mmove\u001b[1;34m(self)\u001b[0m\n\u001b[0;32m    980\u001b[0m         \"\"\"\n\u001b[0;32m    981\u001b[0m         \u001b[1;32mif\u001b[0m \u001b[1;32mnot\u001b[0m \u001b[0mself\u001b[0m\u001b[1;33m.\u001b[0m\u001b[0mstopped\u001b[0m\u001b[1;33m:\u001b[0m\u001b[1;33m\u001b[0m\u001b[1;33m\u001b[0m\u001b[0m\n\u001b[1;32m--> 982\u001b[1;33m             \u001b[0mself\u001b[0m\u001b[1;33m.\u001b[0m\u001b[0mcurr_speed\u001b[0m \u001b[1;33m=\u001b[0m \u001b[0mself\u001b[0m\u001b[1;33m.\u001b[0m\u001b[0mcurr_speed\u001b[0m \u001b[1;33m+\u001b[0m \u001b[0mself\u001b[0m\u001b[1;33m.\u001b[0m\u001b[0mcurr_acc\u001b[0m \u001b[1;33m*\u001b[0m \u001b[0mself\u001b[0m\u001b[1;33m.\u001b[0m\u001b[0msystem\u001b[0m\u001b[1;33m.\u001b[0m\u001b[0mrefresh_time\u001b[0m\u001b[1;33m\u001b[0m\u001b[1;33m\u001b[0m\u001b[0m\n\u001b[0m\u001b[0;32m    983\u001b[0m             \u001b[0mdelta_s\u001b[0m \u001b[1;33m=\u001b[0m \u001b[0mself\u001b[0m\u001b[1;33m.\u001b[0m\u001b[0mcurr_speed\u001b[0m \u001b[1;33m*\u001b[0m \u001b[0mself\u001b[0m\u001b[1;33m.\u001b[0m\u001b[0msystem\u001b[0m\u001b[1;33m.\u001b[0m\u001b[0mrefresh_time\u001b[0m \u001b[1;33m+\u001b[0m \u001b[1;36m0.5\u001b[0m \u001b[1;33m*\u001b[0m \u001b[0mself\u001b[0m\u001b[1;33m.\u001b[0m\u001b[0mcurr_acc\u001b[0m \u001b[1;33m*\u001b[0m \u001b[0mself\u001b[0m\u001b[1;33m.\u001b[0m\u001b[0msystem\u001b[0m\u001b[1;33m.\u001b[0m\u001b[0mrefresh_time\u001b[0m \u001b[1;33m**\u001b[0m \u001b[1;36m2\u001b[0m\u001b[1;33m\u001b[0m\u001b[1;33m\u001b[0m\u001b[0m\n\u001b[0;32m    984\u001b[0m             \u001b[0mself\u001b[0m\u001b[1;33m.\u001b[0m\u001b[0mcurr_MP\u001b[0m \u001b[1;33m+=\u001b[0m \u001b[0mdelta_s\u001b[0m\u001b[1;33m\u001b[0m\u001b[1;33m\u001b[0m\u001b[0m\n",
      "\u001b[1;32m~\\Documents\\GitHub\\PyRailSim-SchedulingEngine\\simulation_core\\train\\Train.py\u001b[0m in \u001b[0;36mcurr_speed\u001b[1;34m(self, new_speed)\u001b[0m\n\u001b[0;32m    601\u001b[0m             \u001b[1;34m'\\n\\tAssertion Error: braking distance {0} at {1} '\u001b[0m\u001b[0;31m \u001b[0m\u001b[0;31m\\\u001b[0m\u001b[1;33m\u001b[0m\u001b[1;33m\u001b[0m\u001b[0m\n\u001b[0;32m    602\u001b[0m             \u001b[1;34m'\\n\\tis greater than distance ({2}) to current signal {3}'\u001b[0m\u001b[0;31m \u001b[0m\u001b[0;31m\\\u001b[0m\u001b[1;33m\u001b[0m\u001b[1;33m\u001b[0m\u001b[0m\n\u001b[1;32m--> 603\u001b[1;33m             \u001b[1;34m'\\n\\t{4}'\u001b[0m\u001b[1;33m.\u001b[0m\u001b[0mformat\u001b[0m\u001b[1;33m(\u001b[0m\u001b[0mself\u001b[0m\u001b[1;33m.\u001b[0m\u001b[0mcurr_brake_distance_abs\u001b[0m\u001b[1;33m,\u001b[0m \u001b[0mself\u001b[0m\u001b[1;33m.\u001b[0m\u001b[0mcurr_MP\u001b[0m\u001b[1;33m,\u001b[0m \u001b[0mself\u001b[0m\u001b[1;33m.\u001b[0m\u001b[0mcurr_dis_to_curr_sig_abs\u001b[0m\u001b[1;33m,\u001b[0m \u001b[0mself\u001b[0m\u001b[1;33m.\u001b[0m\u001b[0mcurr_sig\u001b[0m\u001b[1;33m,\u001b[0m \u001b[0mself\u001b[0m\u001b[1;33m)\u001b[0m\u001b[1;33m\u001b[0m\u001b[1;33m\u001b[0m\u001b[0m\n\u001b[0m\u001b[0;32m    604\u001b[0m         \u001b[1;32massert\u001b[0m \u001b[0mabs\u001b[0m\u001b[1;33m(\u001b[0m\u001b[0mself\u001b[0m\u001b[1;33m.\u001b[0m\u001b[0mcurr_speed\u001b[0m\u001b[1;33m)\u001b[0m \u001b[1;33m<=\u001b[0m \u001b[0mself\u001b[0m\u001b[1;33m.\u001b[0m\u001b[0mcurr_spd_lmt_abs\u001b[0m\u001b[1;33m\u001b[0m\u001b[1;33m\u001b[0m\u001b[0m\n\u001b[0;32m    605\u001b[0m         \u001b[1;31m# assert always-on braking distance/speed limit satisfaction (after newly set speed value) to find bugs\u001b[0m\u001b[1;33m\u001b[0m\u001b[1;33m\u001b[0m\u001b[1;33m\u001b[0m\u001b[0m\n",
      "\u001b[1;31mAssertionError\u001b[0m: \n\tAssertion Error: braking distance 0.0345679012345679 at 14.990073779589434 \n\tis greater than distance (0.009926220410566344) to current signal HomeSig port: 0 of CtrlPnt 3, aspect Aspect: r, \t route None, target speed 0.0 mph\n\tTrain idx: 2 occupying:[((CtrlPnt 2, 1), (CtrlPnt 3, 0))] head MP:14.99 rear MP:13.99"
     ]
    }
   ],
   "source": [
    "# Init Launch\n",
    "sys = launch(sys=sys, downtrain=True, same_train_set=True)\n",
    "string_diagram(sys)\n",
    "if _exception:\n",
    "    raise _exception"
   ]
  },
  {
   "cell_type": "code",
   "execution_count": null,
   "metadata": {
    "scrolled": false
   },
   "outputs": [],
   "source": [
    "speed_curve(sys,sys.trains[1])"
   ]
  },
  {
   "cell_type": "code",
   "execution_count": null,
   "metadata": {
    "scrolled": false
   },
   "outputs": [],
   "source": [
    "# 2nd Launch\n",
    "sys = launch(sys=sys, downtrain=True, same_train_set=True)\n",
    "string_diagram(sys)"
   ]
  },
  {
   "cell_type": "code",
   "execution_count": null,
   "metadata": {},
   "outputs": [],
   "source": [
    "max_spd_list = [trn.max_spd for trn in sys.trains]\n",
    "max_spd_list"
   ]
  },
  {
   "cell_type": "code",
   "execution_count": null,
   "metadata": {},
   "outputs": [],
   "source": [
    "max_acc_list = [trn.max_acc for trn in sys.trains]\n",
    "max_acc_list"
   ]
  },
  {
   "cell_type": "code",
   "execution_count": null,
   "metadata": {},
   "outputs": [],
   "source": [
    "max_dcc_list = [trn.max_dcc for trn in sys.trains]\n",
    "max_dcc_list"
   ]
  },
  {
   "cell_type": "code",
   "execution_count": null,
   "metadata": {},
   "outputs": [],
   "source": [
    "for t0, t1 in zip(sys.trains[0:], sys.trains[1:]):\n",
    "    print(t1.entry_time - t0.entry_time)"
   ]
  },
  {
   "cell_type": "code",
   "execution_count": null,
   "metadata": {},
   "outputs": [],
   "source": [
    "[(datetime.fromtimestamp(t), x) for [t, x] in sys.trains[0].time_pos_list]"
   ]
  },
  {
   "cell_type": "code",
   "execution_count": null,
   "metadata": {},
   "outputs": [],
   "source": [
    "trn1 = sys.trains[1]\n",
    "trn1"
   ]
  },
  {
   "cell_type": "code",
   "execution_count": null,
   "metadata": {},
   "outputs": [],
   "source": [
    "sys.dispatcher.request_routing(trn1)"
   ]
  },
  {
   "cell_type": "code",
   "execution_count": null,
   "metadata": {},
   "outputs": [],
   "source": [
    "trn1.curr_sigpoint"
   ]
  },
  {
   "cell_type": "code",
   "execution_count": null,
   "metadata": {},
   "outputs": [],
   "source": [
    "trn1.init_segment"
   ]
  },
  {
   "cell_type": "code",
   "execution_count": null,
   "metadata": {},
   "outputs": [],
   "source": [
    "trn1.curr_sig.__dict__"
   ]
  },
  {
   "cell_type": "code",
   "execution_count": null,
   "metadata": {},
   "outputs": [],
   "source": [
    "trn0 = sys.trains[0]\n",
    "trn0"
   ]
  },
  {
   "cell_type": "code",
   "execution_count": null,
   "metadata": {},
   "outputs": [],
   "source": [
    "trn0.curr_sig.__dict__"
   ]
  },
  {
   "cell_type": "code",
   "execution_count": null,
   "metadata": {},
   "outputs": [],
   "source": [
    "trn1.curr_spd_lmt_abs * 3600"
   ]
  },
  {
   "cell_type": "code",
   "execution_count": null,
   "metadata": {},
   "outputs": [],
   "source": [
    "trn1.curr_sig.curr_spd_lmt_abs.target_speed"
   ]
  },
  {
   "cell_type": "code",
   "execution_count": null,
   "metadata": {},
   "outputs": [],
   "source": [
    "_tgt_MP = trn1.curr_sig.MP if trn1.curr_sig else _direction_sign * float('inf')"
   ]
  },
  {
   "cell_type": "code",
   "execution_count": null,
   "metadata": {},
   "outputs": [],
   "source": [
    "trn1.curr_MP"
   ]
  },
  {
   "cell_type": "code",
   "execution_count": null,
   "metadata": {},
   "outputs": [],
   "source": [
    "trn1.acc_before_dcc(0, 5, 0, trn1.curr_target_spd_abs)"
   ]
  },
  {
   "cell_type": "code",
   "execution_count": null,
   "metadata": {},
   "outputs": [],
   "source": [
    "trn1.sign_MP(trn1.curr_routing_path_segment)"
   ]
  },
  {
   "cell_type": "code",
   "execution_count": null,
   "metadata": {},
   "outputs": [],
   "source": [
    "trn1.curr_target_spd_abs"
   ]
  },
  {
   "cell_type": "code",
   "execution_count": null,
   "metadata": {},
   "outputs": [],
   "source": [
    "trn1.curr_spd_lmt_abs"
   ]
  },
  {
   "cell_type": "code",
   "execution_count": null,
   "metadata": {},
   "outputs": [],
   "source": []
  }
 ],
 "metadata": {
  "kernelspec": {
   "display_name": "Python 3",
   "language": "python",
   "name": "python3"
  },
  "language_info": {
   "codemirror_mode": {
    "name": "ipython",
    "version": 3
   },
   "file_extension": ".py",
   "mimetype": "text/x-python",
   "name": "python",
   "nbconvert_exporter": "python",
   "pygments_lexer": "ipython3",
   "version": "3.7.3"
  }
 },
 "nbformat": 4,
 "nbformat_minor": 2
}
