{
 "cells": [
  {
   "cell_type": "code",
   "execution_count": 1,
   "metadata": {},
   "outputs": [],
   "source": [
    "from datetime import datetime, timedelta\n",
    "import numpy as np\n",
    "import random\n",
    "import networkx as nx\n",
    "\n",
    "from simulation_core.infrastructure import *\n",
    "from simulation_core.signaling import *\n",
    "from simulation_core.network import *\n",
    "from simulation_core.train import *\n",
    "from simulation_core.dispatching.Dispatcher import Dispatcher\n",
    "from simulation_test.sim import *\n",
    "\n",
    "from itertools import combinations, permutations\n",
    "\n",
    "import matplotlib.pyplot as plt\n",
    "import matplotlib.dates as mdates\n",
    "\n",
    "\n",
    "\n",
    "sim_init_time = datetime.strptime('2018-01-10 10:00:00', \"%Y-%m-%d %H:%M:%S\")\n",
    "sim_term_time = datetime.strptime('2018-01-10 15:30:00', \"%Y-%m-%d %H:%M:%S\")\n",
    "spd_container = [random.uniform(0.01, 0.02) for i in range(20)]\n",
    "acc_container = [0.5*random.uniform(2.78e-05*0.85, 2.78e-05*1.15) for i in range(20)]\n",
    "dcc_container = [0.2*random.uniform(2.78e-05*0.85, 2.78e-05*1.15) for i in range(20)]\n",
    "headway = 300 + random.random() * 400\n",
    "sys = System(sim_init_time, spd_container, acc_container, dcc_container,\n",
    "             term_time=sim_term_time,\n",
    "             dos_period=['2018-01-10 11:30:00', '2018-01-10 12:30:00'],  \n",
    "             dos_pos=(15,20),\n",
    "             headway=headway, \n",
    "             refresh_time=50)\n",
    "dp = Dispatcher(sys)\n",
    "# K165 = Train(sys, \n",
    "#              ((sys.signal_points[0],1),(sys.signal_points[1],0)),\n",
    "#              ((sys.signal_points[10],1),(None,None)),\n",
    "#              max_spd=random.choice(sys.spd_container),\n",
    "#              max_acc=random.choice(sys.acc_container),\n",
    "#              max_dcc=random.choice(sys.dcc_container),\n",
    "#              length=1)\n",
    "# T165 = Train(sys, \n",
    "#              ((None,None),(sys.signal_points[0],0)),\n",
    "#              ((sys.signal_points[10],1),(None,None)),\n",
    "#              max_spd=K165.max_spd*1.02,\n",
    "#              max_acc=random.choice(sys.acc_container),\n",
    "#              max_dcc=random.choice(sys.dcc_container),\n",
    "#              length=1)\n",
    "# K166 = Train(sys, \n",
    "#              ((sys.signal_points[10],0),(sys.signal_points[9],1)),\n",
    "#              ((sys.signal_points[0],0),(None,None)),\n",
    "#              max_spd=random.choice(sys.spd_container),\n",
    "#              max_acc=random.choice(sys.acc_container),\n",
    "#              max_dcc=random.choice(sys.dcc_container),\n",
    "#              length=1)\n",
    "# T166 = Train(sys, \n",
    "#              ((None,None),(sys.signal_points[10],1)),\n",
    "#              ((sys.signal_points[0],0),(None,None)),\n",
    "#              max_spd=K166.max_spd*1.02,\n",
    "#              max_acc=random.choice(sys.acc_container),\n",
    "#              max_dcc=random.choice(sys.dcc_container),\n",
    "#              length=1)"
   ]
  },
  {
   "cell_type": "code",
   "execution_count": 2,
   "metadata": {
    "scrolled": false
   },
   "outputs": [
    {
     "name": "stdout",
     "output_type": "stream",
     "text": [
      "train idx: 0 occupying:[((None, None), (CtrlPnt 0, 0))] head MP: 0.00 rear MP:-1.00, requested (0, 1) at 0.0\n",
      "\troute (0, 1) of CtrlPnt 0 is opened\n",
      "train train idx: 0 occupying:[((None, None), (CtrlPnt 0, 0))] head MP: 0.00 rear MP:-1.00 initiated, entering into Track <MP:  0.0~5.0  > <CtrlPnt 0 port: 1~AutoPnt 1 port: 0> key: 0\n",
      "\troute (0, 1) of CtrlPnt 0 is closed\n",
      "train idx: 0 occupying:[((CtrlPnt 0, 1), (AutoPnt 1, 0)), ((None, None), (CtrlPnt 0, 0))] head MP: 0.00 rear MP:-1.00, requested (0, 1) at 10.0\n",
      "\troute (0, 1) of CtrlPnt 2 is opened\n",
      "train idx: 1 occupying:[((None, None), (CtrlPnt 0, 0))] head MP: 0.00 rear MP:-1.00, requested (0, 1) at 0.0\n",
      "\troute (0, 1) of CtrlPnt 0 is opened\n",
      "train train idx: 1 occupying:[((None, None), (CtrlPnt 0, 0))] head MP: 0.00 rear MP:-1.00 initiated, entering into Track <MP:  0.0~5.0  > <CtrlPnt 0 port: 1~AutoPnt 1 port: 0> key: 0\n",
      "\troute (0, 1) of CtrlPnt 0 is closed\n",
      "\troute (0, 1) of CtrlPnt 2 is closed\n",
      "train idx: 0 occupying:[((CtrlPnt 2, 1), (CtrlPnt 3, 0)), ((AutoPnt 1, 1), (CtrlPnt 2, 0))] head MP:10.11 rear MP: 9.11, requested (0, 3) at 15.0\n",
      "\troute (0, 3) of CtrlPnt 3 is opened\n",
      "train idx: 1 occupying:[((CtrlPnt 0, 1), (AutoPnt 1, 0)), ((None, None), (CtrlPnt 0, 0))] head MP: 0.00 rear MP:-1.00, requested (0, 1) at 10.0\n",
      "\troute (0, 1) of CtrlPnt 2 is opened\n",
      "\troute (0, 3) of CtrlPnt 3 is closed\n",
      "train idx: 0 occupying:[((CtrlPnt 3, 3), (CtrlPnt 4, 2)), ((CtrlPnt 2, 1), (CtrlPnt 3, 0))] head MP:15.11 rear MP:14.11, requested (2, 1) at 20.0\n",
      "\troute (2, 1) of CtrlPnt 4 is opened\n",
      "train idx: 2 occupying:[((None, None), (CtrlPnt 0, 0))] head MP: 0.00 rear MP:-1.00, requested (0, 1) at 0.0\n",
      "\troute (0, 1) of CtrlPnt 0 is opened\n",
      "train train idx: 2 occupying:[((None, None), (CtrlPnt 0, 0))] head MP: 0.00 rear MP:-1.00 initiated, entering into Track <MP:  0.0~5.0  > <CtrlPnt 0 port: 1~AutoPnt 1 port: 0> key: 0\n",
      "\troute (0, 1) of CtrlPnt 0 is closed\n",
      "\troute (2, 1) of CtrlPnt 4 is closed\n",
      "train idx: 0 occupying:[((CtrlPnt 4, 1), (CtrlPnt 5, 0)), ((CtrlPnt 3, 3), (CtrlPnt 4, 2))] head MP:20.11 rear MP:19.11, requested (0, 1) at 25.0\n",
      "\troute (0, 1) of CtrlPnt 5 is opened\n",
      "\troute (0, 1) of CtrlPnt 2 is closed\n",
      "train idx: 1 occupying:[((CtrlPnt 2, 1), (CtrlPnt 3, 0)), ((AutoPnt 1, 1), (CtrlPnt 2, 0))] head MP:10.20 rear MP: 9.20, requested (0, 1) at 15.0\n",
      "\troute (0, 1) of CtrlPnt 3 is opened\n",
      "train idx: 2 occupying:[((CtrlPnt 0, 1), (AutoPnt 1, 0)), ((None, None), (CtrlPnt 0, 0))] head MP: 0.00 rear MP:-1.00, requested (0, 1) at 10.0\n",
      "\troute (0, 1) of CtrlPnt 2 is opened\n",
      "\troute (0, 1) of CtrlPnt 5 is closed\n",
      "train idx: 0 occupying:[((CtrlPnt 5, 1), (CtrlPnt 6, 0)), ((CtrlPnt 4, 1), (CtrlPnt 5, 0))] head MP:25.11 rear MP:24.11, requested (0, 3) at 30.0\n",
      "\troute (0, 3) of CtrlPnt 6 is opened\n",
      "\troute (0, 1) of CtrlPnt 3 is closed\n",
      "train idx: 1 occupying:[((CtrlPnt 3, 1), (CtrlPnt 4, 0)), ((CtrlPnt 2, 1), (CtrlPnt 3, 0))] head MP:15.19 rear MP:14.19, requested (0, 1) at 20.0\n",
      "\troute (0, 1) of CtrlPnt 4 is opened\n",
      "train idx: 3 occupying:[((None, None), (CtrlPnt 0, 0))] head MP: 0.00 rear MP:-1.00, requested (0, 1) at 0.0\n",
      "\troute (0, 1) of CtrlPnt 0 is opened\n",
      "train train idx: 3 occupying:[((None, None), (CtrlPnt 0, 0))] head MP: 0.00 rear MP:-1.00 initiated, entering into Track <MP:  0.0~5.0  > <CtrlPnt 0 port: 1~AutoPnt 1 port: 0> key: 0\n",
      "\troute (0, 1) of CtrlPnt 0 is closed\n",
      "\troute (0, 3) of CtrlPnt 6 is closed\n",
      "\troute (0, 1) of CtrlPnt 4 is closed\n",
      "\troute (0, 1) of CtrlPnt 2 is closed\n",
      "train idx: 1 occupying:[((CtrlPnt 4, 1), (CtrlPnt 5, 0)), ((CtrlPnt 3, 1), (CtrlPnt 4, 0))] head MP:20.19 rear MP:19.19, requested (0, 3) at 25.0\n",
      "\troute (0, 3) of CtrlPnt 5 is opened\n",
      "train idx: 2 occupying:[((CtrlPnt 2, 1), (CtrlPnt 3, 0)), ((AutoPnt 1, 1), (CtrlPnt 2, 0))] head MP:10.02 rear MP: 9.02, requested (0, 3) at 15.0\n",
      "\troute (0, 3) of CtrlPnt 3 is opened\n",
      "train idx: 3 occupying:[((CtrlPnt 0, 1), (AutoPnt 1, 0)), ((None, None), (CtrlPnt 0, 0))] head MP: 0.00 rear MP:-1.00, requested (0, 1) at 10.0\n",
      "\troute (0, 1) of CtrlPnt 2 is opened\n",
      "\troute (0, 3) of CtrlPnt 5 is closed\n",
      "\troute (0, 3) of CtrlPnt 3 is closed\n",
      "train idx: 1 occupying:[((CtrlPnt 5, 3), (AutoPnt11, 0))] head MP:28.15 rear MP:27.15, requested (2, 1) at 40.0\n",
      "\troute (2, 1) of CtrlPnt 8 is opened\n",
      "train idx: 4 occupying:[((None, None), (CtrlPnt 0, 0))] head MP: 0.00 rear MP:-1.00, requested (0, 1) at 0.0\n",
      "\troute (0, 1) of CtrlPnt 0 is opened\n",
      "train train idx: 4 occupying:[((None, None), (CtrlPnt 0, 0))] head MP: 0.00 rear MP:-1.00 initiated, entering into Track <MP:  0.0~5.0  > <CtrlPnt 0 port: 1~AutoPnt 1 port: 0> key: 0\n",
      "\troute (0, 1) of CtrlPnt 0 is closed\n",
      "train idx: 0 occupying:[((CtrlPnt 6, 3), (CtrlPnt 7, 2))] head MP:34.97 rear MP:33.97, requested (2, 1) at 35.0\n",
      "\troute (2, 1) of CtrlPnt 7 is opened\n",
      "\troute (2, 1) of CtrlPnt 7 is closed\n",
      "train idx: 2 occupying:[((CtrlPnt 3, 3), (CtrlPnt 4, 2))] head MP:19.63 rear MP:18.63, requested (2, 1) at 20.0\n",
      "\troute (2, 1) of CtrlPnt 4 is opened\n",
      "\troute (2, 1) of CtrlPnt 4 is closed\n",
      "\troute (0, 1) of CtrlPnt 2 is closed\n",
      "train idx: 2 occupying:[((CtrlPnt 4, 1), (CtrlPnt 5, 0)), ((CtrlPnt 3, 3), (CtrlPnt 4, 2))] head MP:20.18 rear MP:19.18, requested (0, 1) at 25.0\n",
      "\troute (0, 1) of CtrlPnt 5 is opened\n",
      "train idx: 3 occupying:[((CtrlPnt 2, 1), (CtrlPnt 3, 0)), ((AutoPnt 1, 1), (CtrlPnt 2, 0))] head MP:10.19 rear MP: 9.19, requested (0, 1) at 15.0\n",
      "\troute (0, 1) of CtrlPnt 3 is opened\n",
      "train idx: 4 occupying:[((CtrlPnt 0, 1), (AutoPnt 1, 0)), ((None, None), (CtrlPnt 0, 0))] head MP: 0.00 rear MP:-1.00, requested (0, 1) at 10.0\n",
      "\troute (0, 1) of CtrlPnt 2 is opened\n",
      "\troute (2, 1) of CtrlPnt 8 is closed\n",
      "train idx: 1 occupying:[((CtrlPnt 8, 1), (AutoPnt 9, 0)), ((AutoPnt12, 1), (CtrlPnt 8, 2))] head MP:40.07 rear MP:39.07, requested (0, 1) at 50.0\n",
      "\troute (0, 1) of CtrlPnt10 is opened\n",
      "train idx: 0 occupying:[((CtrlPnt 7, 1), (CtrlPnt 8, 0))] head MP:36.50 rear MP:35.50, requested (0, 1) at 40.0\n",
      "\troute (0, 1) of CtrlPnt 8 is opened\n",
      "\troute (0, 1) of CtrlPnt 5 is closed\n",
      "\troute (0, 1) of CtrlPnt 3 is closed\n",
      "train idx: 2 occupying:[((CtrlPnt 5, 1), (CtrlPnt 6, 0)), ((CtrlPnt 4, 1), (CtrlPnt 5, 0))] head MP:25.18 rear MP:24.18, requested (0, 3) at 30.0\n",
      "\troute (0, 3) of CtrlPnt 6 is opened\n",
      "\troute (0, 1) of CtrlPnt 8 is closed\n",
      "train idx: 3 occupying:[((CtrlPnt 3, 1), (CtrlPnt 4, 0)), ((CtrlPnt 2, 1), (CtrlPnt 3, 0))] head MP:15.46 rear MP:14.46, requested (0, 1) at 20.0\n",
      "\troute (0, 1) of CtrlPnt 4 is opened\n",
      "\troute (0, 1) of CtrlPnt10 is closed\n",
      "train idx: 5 occupying:[((None, None), (CtrlPnt 0, 0))] head MP: 0.00 rear MP:-1.00, requested (0, 1) at 0.0\n",
      "\troute (0, 1) of CtrlPnt 0 is opened\n",
      "train train idx: 5 occupying:[((None, None), (CtrlPnt 0, 0))] head MP: 0.00 rear MP:-1.00 initiated, entering into Track <MP:  0.0~5.0  > <CtrlPnt 0 port: 1~AutoPnt 1 port: 0> key: 0\n",
      "\troute (0, 1) of CtrlPnt 0 is closed\n",
      "\troute (0, 1) of CtrlPnt 2 is closed\n",
      "\troute (0, 3) of CtrlPnt 6 is closed\n",
      "\troute (0, 1) of CtrlPnt 4 is closed\n",
      "train idx: 4 occupying:[((CtrlPnt 2, 1), (CtrlPnt 3, 0)), ((AutoPnt 1, 1), (CtrlPnt 2, 0))] head MP:10.05 rear MP: 9.05, requested (0, 3) at 15.0\n",
      "\troute (0, 3) of CtrlPnt 3 is opened\n",
      "train idx: 2 occupying:[((CtrlPnt 6, 3), (CtrlPnt 7, 2)), ((CtrlPnt 5, 1), (CtrlPnt 6, 0))] head MP:30.18 rear MP:29.18, requested (2, 1) at 35.0\n",
      "\troute (2, 1) of CtrlPnt 7 is opened\n",
      "train idx: 3 occupying:[((CtrlPnt 4, 1), (CtrlPnt 5, 0)), ((CtrlPnt 3, 1), (CtrlPnt 4, 0))] head MP:20.18 rear MP:19.18, requested (0, 3) at 25.0\n",
      "\troute (0, 3) of CtrlPnt 5 is opened\n",
      "train idx: 5 occupying:[((CtrlPnt 0, 1), (AutoPnt 1, 0)), ((None, None), (CtrlPnt 0, 0))] head MP: 0.00 rear MP:-1.00, requested (0, 1) at 10.0\n",
      "\troute (0, 1) of CtrlPnt 2 is opened\n",
      "\troute (0, 3) of CtrlPnt 3 is closed\n",
      "\troute (2, 1) of CtrlPnt 7 is closed\n",
      "\troute (0, 3) of CtrlPnt 5 is closed\n",
      "train idx: 4 occupying:[((CtrlPnt 3, 3), (CtrlPnt 4, 2)), ((CtrlPnt 2, 1), (CtrlPnt 3, 0))] head MP:15.04 rear MP:14.04, requested (2, 1) at 20.0\n",
      "\troute (2, 1) of CtrlPnt 4 is opened\n",
      "train idx: 2 occupying:[((CtrlPnt 7, 1), (CtrlPnt 8, 0)), ((CtrlPnt 6, 3), (CtrlPnt 7, 2))] head MP:35.18 rear MP:34.18, requested (0, 1) at 40.0\n",
      "\troute (0, 1) of CtrlPnt 8 is opened\n",
      "train idx: 6 occupying:[((None, None), (CtrlPnt 0, 0))] head MP: 0.00 rear MP:-1.00, requested (0, 1) at 0.0\n",
      "\troute (0, 1) of CtrlPnt 0 is opened\n",
      "train train idx: 6 occupying:[((None, None), (CtrlPnt 0, 0))] head MP: 0.00 rear MP:-1.00 initiated, entering into Track <MP:  0.0~5.0  > <CtrlPnt 0 port: 1~AutoPnt 1 port: 0> key: 0\n",
      "\troute (0, 1) of CtrlPnt 0 is closed\n"
     ]
    },
    {
     "name": "stdout",
     "output_type": "stream",
     "text": [
      "\troute (2, 1) of CtrlPnt 4 is closed\n",
      "train idx: 4 occupying:[((CtrlPnt 4, 1), (CtrlPnt 5, 0)), ((CtrlPnt 3, 3), (CtrlPnt 4, 2))] head MP:20.04 rear MP:19.04, requested (0, 1) at 25.0\n",
      "\troute (0, 1) of CtrlPnt 5 is opened\n",
      "\troute (0, 1) of CtrlPnt 2 is closed\n",
      "train idx: 5 occupying:[((CtrlPnt 2, 1), (CtrlPnt 3, 0)), ((AutoPnt 1, 1), (CtrlPnt 2, 0))] head MP:10.16 rear MP: 9.16, requested (0, 1) at 15.0\n",
      "\troute (0, 1) of CtrlPnt 3 is opened\n",
      "train idx: 6 occupying:[((CtrlPnt 0, 1), (AutoPnt 1, 0)), ((None, None), (CtrlPnt 0, 0))] head MP: 0.00 rear MP:-1.00, requested (0, 1) at 10.0\n",
      "\troute (0, 1) of CtrlPnt 2 is opened\n",
      "\troute (0, 1) of CtrlPnt 5 is closed\n",
      "train idx: 4 occupying:[((CtrlPnt 5, 1), (CtrlPnt 6, 0)), ((CtrlPnt 4, 1), (CtrlPnt 5, 0))] head MP:25.04 rear MP:24.04, requested (0, 1) at 30.0\n",
      "\troute (0, 1) of CtrlPnt 6 is opened\n",
      "\troute (0, 1) of CtrlPnt 3 is closed\n",
      "train idx: 7 occupying:[((None, None), (CtrlPnt 0, 0))] head MP: 0.00 rear MP:-1.00, requested (0, 1) at 0.0\n",
      "\troute (0, 1) of CtrlPnt 0 is opened\n",
      "train train idx: 7 occupying:[((None, None), (CtrlPnt 0, 0))] head MP: 0.00 rear MP:-1.00 initiated, entering into Track <MP:  0.0~5.0  > <CtrlPnt 0 port: 1~AutoPnt 1 port: 0> key: 0\n",
      "\troute (0, 1) of CtrlPnt 0 is closed\n",
      "\troute (0, 1) of CtrlPnt 6 is closed\n",
      "\troute (0, 1) of CtrlPnt 2 is closed\n"
     ]
    },
    {
     "ename": "AttributeError",
     "evalue": "'NoneType' object has no attribute 'pop'",
     "output_type": "error",
     "traceback": [
      "\u001b[1;31m---------------------------------------------------------------------------\u001b[0m",
      "\u001b[1;31mAttributeError\u001b[0m                            Traceback (most recent call last)",
      "\u001b[1;32m<ipython-input-2-f3ec22f77de9>\u001b[0m in \u001b[0;36m<module>\u001b[1;34m\u001b[0m\n\u001b[0;32m     21\u001b[0m                                                     length=1)\n\u001b[0;32m     22\u001b[0m         \u001b[0msys\u001b[0m\u001b[1;33m.\u001b[0m\u001b[0msys_time\u001b[0m\u001b[1;33m+=\u001b[0m\u001b[0msys\u001b[0m\u001b[1;33m.\u001b[0m\u001b[0mrefresh_time\u001b[0m\u001b[1;33m\u001b[0m\u001b[1;33m\u001b[0m\u001b[0m\n\u001b[1;32m---> 23\u001b[1;33m \u001b[0mlaunch\u001b[0m\u001b[1;33m(\u001b[0m\u001b[0mdowntrain\u001b[0m\u001b[1;33m=\u001b[0m\u001b[1;32mTrue\u001b[0m\u001b[1;33m)\u001b[0m\u001b[1;33m\u001b[0m\u001b[1;33m\u001b[0m\u001b[0m\n\u001b[0m\u001b[0;32m     24\u001b[0m \u001b[1;31m# launch(downtrain=False)\u001b[0m\u001b[1;33m\u001b[0m\u001b[1;33m\u001b[0m\u001b[1;33m\u001b[0m\u001b[0m\n",
      "\u001b[1;32m<ipython-input-2-f3ec22f77de9>\u001b[0m in \u001b[0;36mlaunch\u001b[1;34m(downtrain)\u001b[0m\n\u001b[0;32m      3\u001b[0m         \u001b[0m_semaphore_to_return\u001b[0m \u001b[1;33m=\u001b[0m \u001b[1;32mFalse\u001b[0m\u001b[1;33m\u001b[0m\u001b[1;33m\u001b[0m\u001b[0m\n\u001b[0;32m      4\u001b[0m         \u001b[1;32mfor\u001b[0m \u001b[0mt\u001b[0m \u001b[1;32min\u001b[0m \u001b[0msys\u001b[0m\u001b[1;33m.\u001b[0m\u001b[0mtrains\u001b[0m\u001b[1;33m:\u001b[0m\u001b[1;33m\u001b[0m\u001b[1;33m\u001b[0m\u001b[0m\n\u001b[1;32m----> 5\u001b[1;33m             \u001b[0mt\u001b[0m\u001b[1;33m.\u001b[0m\u001b[0mrequest_routing\u001b[0m\u001b[1;33m(\u001b[0m\u001b[1;33m)\u001b[0m\u001b[1;33m\u001b[0m\u001b[1;33m\u001b[0m\u001b[0m\n\u001b[0m\u001b[0;32m      6\u001b[0m             \u001b[0mt\u001b[0m\u001b[1;33m.\u001b[0m\u001b[0mupdate_acc\u001b[0m\u001b[1;33m(\u001b[0m\u001b[1;33m)\u001b[0m\u001b[1;33m\u001b[0m\u001b[1;33m\u001b[0m\u001b[0m\n\u001b[0;32m      7\u001b[0m         \u001b[1;32mif\u001b[0m \u001b[0msys\u001b[0m\u001b[1;33m.\u001b[0m\u001b[0msys_time\u001b[0m\u001b[1;33m+\u001b[0m\u001b[0msys\u001b[0m\u001b[1;33m.\u001b[0m\u001b[0mrefresh_time\u001b[0m \u001b[1;33m-\u001b[0m \u001b[0msys\u001b[0m\u001b[1;33m.\u001b[0m\u001b[0mlast_train_init_time\u001b[0m \u001b[1;33m>=\u001b[0m \u001b[0msys\u001b[0m\u001b[1;33m.\u001b[0m\u001b[0mheadway\u001b[0m\u001b[1;33m:\u001b[0m\u001b[1;33m\u001b[0m\u001b[1;33m\u001b[0m\u001b[0m\n",
      "\u001b[1;32m~\\Documents\\GitHub\\PyRailSim-SchedulingEngine\\simulation_core\\train\\train.py\u001b[0m in \u001b[0;36mrequest_routing\u001b[1;34m(self)\u001b[0m\n\u001b[0;32m    994\u001b[0m             \u001b[1;33m@\u001b[0m\u001b[1;32mreturn\u001b[0m\u001b[1;33m:\u001b[0m \u001b[1;32mNone\u001b[0m\u001b[1;33m\u001b[0m\u001b[1;33m\u001b[0m\u001b[0m\n\u001b[0;32m    995\u001b[0m         '''\n\u001b[1;32m--> 996\u001b[1;33m         \u001b[1;32mif\u001b[0m \u001b[0mself\u001b[0m\u001b[1;33m.\u001b[0m\u001b[0mpending_route\u001b[0m \u001b[1;32mand\u001b[0m \u001b[0mself\u001b[0m\u001b[1;33m.\u001b[0m\u001b[0many_paths_ahead_enterable\u001b[0m\u001b[1;33m:\u001b[0m\u001b[1;33m\u001b[0m\u001b[1;33m\u001b[0m\u001b[0m\n\u001b[0m\u001b[0;32m    997\u001b[0m             \u001b[0m_pending_route_to_open\u001b[0m \u001b[1;33m=\u001b[0m\u001b[0;31m \u001b[0m\u001b[0;31m\\\u001b[0m\u001b[1;33m\u001b[0m\u001b[1;33m\u001b[0m\u001b[0m\n\u001b[0;32m    998\u001b[0m                 self.curr_ctrl_point.find_route_for_port(\n",
      "\u001b[1;32m~\\Documents\\GitHub\\PyRailSim-SchedulingEngine\\simulation_core\\train\\train.py\u001b[0m in \u001b[0;36many_paths_ahead_enterable\u001b[1;34m(self)\u001b[0m\n\u001b[0;32m    801\u001b[0m             if all([True\n\u001b[0;32m    802\u001b[0m                     \u001b[1;32mif\u001b[0m \u001b[0mself\u001b[0m\u001b[1;33m.\u001b[0m\u001b[0msystem\u001b[0m\u001b[1;33m.\u001b[0m\u001b[0mcapacity_enterable\u001b[0m\u001b[1;33m(\u001b[0m\u001b[0mself\u001b[0m\u001b[1;33m.\u001b[0m\u001b[0mcurr_ctrl_point\u001b[0m\u001b[1;33m,\u001b[0m \u001b[0mn\u001b[0m\u001b[1;33m)\u001b[0m\u001b[1;33m\u001b[0m\u001b[1;33m\u001b[0m\u001b[0m\n\u001b[1;32m--> 803\u001b[1;33m                     else False for n in p]):\n\u001b[0m\u001b[0;32m    804\u001b[0m                 \u001b[1;32mreturn\u001b[0m \u001b[1;32mTrue\u001b[0m\u001b[1;33m\u001b[0m\u001b[1;33m\u001b[0m\u001b[0m\n\u001b[0;32m    805\u001b[0m         \u001b[1;32mreturn\u001b[0m \u001b[1;32mFalse\u001b[0m\u001b[1;33m\u001b[0m\u001b[1;33m\u001b[0m\u001b[0m\n",
      "\u001b[1;32m~\\Documents\\GitHub\\PyRailSim-SchedulingEngine\\simulation_core\\train\\train.py\u001b[0m in \u001b[0;36m<listcomp>\u001b[1;34m(.0)\u001b[0m\n\u001b[0;32m    801\u001b[0m             if all([True\n\u001b[0;32m    802\u001b[0m                     \u001b[1;32mif\u001b[0m \u001b[0mself\u001b[0m\u001b[1;33m.\u001b[0m\u001b[0msystem\u001b[0m\u001b[1;33m.\u001b[0m\u001b[0mcapacity_enterable\u001b[0m\u001b[1;33m(\u001b[0m\u001b[0mself\u001b[0m\u001b[1;33m.\u001b[0m\u001b[0mcurr_ctrl_point\u001b[0m\u001b[1;33m,\u001b[0m \u001b[0mn\u001b[0m\u001b[1;33m)\u001b[0m\u001b[1;33m\u001b[0m\u001b[1;33m\u001b[0m\u001b[0m\n\u001b[1;32m--> 803\u001b[1;33m                     else False for n in p]):\n\u001b[0m\u001b[0;32m    804\u001b[0m                 \u001b[1;32mreturn\u001b[0m \u001b[1;32mTrue\u001b[0m\u001b[1;33m\u001b[0m\u001b[1;33m\u001b[0m\u001b[0m\n\u001b[0;32m    805\u001b[0m         \u001b[1;32mreturn\u001b[0m \u001b[1;32mFalse\u001b[0m\u001b[1;33m\u001b[0m\u001b[1;33m\u001b[0m\u001b[0m\n",
      "\u001b[1;32m~\\Documents\\GitHub\\PyRailSim-SchedulingEngine\\simulation_core\\network\\System\\system.py\u001b[0m in \u001b[0;36mcapacity_enterable\u001b[1;34m(self, init_point, dest_point)\u001b[0m\n\u001b[0;32m    477\u001b[0m         '''\n\u001b[0;32m    478\u001b[0m             Determines if a train could cross init_point towards dest_point.'''\n\u001b[1;32m--> 479\u001b[1;33m         \u001b[0m_parallel_tracks\u001b[0m \u001b[1;33m=\u001b[0m \u001b[0mself\u001b[0m\u001b[1;33m.\u001b[0m\u001b[0mnum_parallel_tracks\u001b[0m\u001b[1;33m(\u001b[0m\u001b[0minit_point\u001b[0m\u001b[1;33m,\u001b[0m \u001b[0mdest_point\u001b[0m\u001b[1;33m)\u001b[0m\u001b[1;33m\u001b[0m\u001b[1;33m\u001b[0m\u001b[0m\n\u001b[0m\u001b[0;32m    480\u001b[0m         _outbound_trains = self.get_trains_between_points(from_point=init_point,\n\u001b[0;32m    481\u001b[0m                                                           \u001b[0mto_point\u001b[0m\u001b[1;33m=\u001b[0m\u001b[0mdest_point\u001b[0m\u001b[1;33m,\u001b[0m\u001b[1;33m\u001b[0m\u001b[1;33m\u001b[0m\u001b[0m\n",
      "\u001b[1;32m~\\Documents\\GitHub\\PyRailSim-SchedulingEngine\\simulation_core\\network\\System\\system.py\u001b[0m in \u001b[0;36mnum_parallel_tracks\u001b[1;34m(self, init_point, dest_point)\u001b[0m\n\u001b[0;32m    492\u001b[0m         _mainline_path = shortest_path(self.G_origin, source=init_point,\n\u001b[0;32m    493\u001b[0m                                 target=dest_point, weight='weight_mainline')\n\u001b[1;32m--> 494\u001b[1;33m         \u001b[0m_head\u001b[0m \u001b[1;33m=\u001b[0m \u001b[0m_mainline_path\u001b[0m\u001b[1;33m.\u001b[0m\u001b[0mpop\u001b[0m\u001b[1;33m(\u001b[0m\u001b[1;36m0\u001b[0m\u001b[1;33m)\u001b[0m\u001b[1;33m\u001b[0m\u001b[1;33m\u001b[0m\u001b[0m\n\u001b[0m\u001b[0;32m    495\u001b[0m         \u001b[0mcount\u001b[0m \u001b[1;33m=\u001b[0m \u001b[1;36m0\u001b[0m\u001b[1;33m\u001b[0m\u001b[1;33m\u001b[0m\u001b[0m\n\u001b[0;32m    496\u001b[0m         \u001b[0m_traversed\u001b[0m \u001b[1;33m=\u001b[0m \u001b[1;33m[\u001b[0m\u001b[1;33m]\u001b[0m\u001b[1;33m\u001b[0m\u001b[1;33m\u001b[0m\u001b[0m\n",
      "\u001b[1;31mAttributeError\u001b[0m: 'NoneType' object has no attribute 'pop'"
     ]
    }
   ],
   "source": [
    "def launch(downtrain=True):\n",
    "    while sys.sys_time - sys.init_time <= sys.term_time - sys.init_time:\n",
    "        _semaphore_to_return = False\n",
    "        for t in sys.trains:\n",
    "            t.request_routing()\n",
    "            t.update_acc()\n",
    "        if sys.sys_time+sys.refresh_time - sys.last_train_init_time >= sys.headway:\n",
    "            if downtrain:\n",
    "                if not sys.signal_points[0].curr_train_with_route.keys():\n",
    "                    if all([t.curr_routing_path_segment != ((None,None),(sys.signal_points[0],0)) for t in sys.trains]):\n",
    "                        if not sys.signal_points[0].track_by_port[1].trains:\n",
    "                            t = sys.generate_train( sys.signal_points[0],0,\n",
    "                                                    sys.signal_points[10],1,\n",
    "                                                    length=1)\n",
    "            else:\n",
    "                if not sys.signal_points[10].curr_train_with_route.keys():\n",
    "                    if all([t.curr_routing_path_segment != ((None,None),(sys.signal_points[10],1)) for t in sys.trains]):\n",
    "                        if not sys.signal_points[10].track_by_port[0].trains:\n",
    "                            t = sys.generate_train( sys.signal_points[10],1,\n",
    "                                                    sys.signal_points[0],0,\n",
    "                                                    length=1)\n",
    "        sys.sys_time+=sys.refresh_time\n",
    "launch(downtrain=True)\n",
    "# launch(downtrain=False)"
   ]
  },
  {
   "cell_type": "code",
   "execution_count": null,
   "metadata": {
    "scrolled": false
   },
   "outputs": [],
   "source": [
    "string_diagram(sys)"
   ]
  },
  {
   "cell_type": "code",
   "execution_count": null,
   "metadata": {},
   "outputs": [],
   "source": [
    "speed_curve(sys,sys.trains[3])"
   ]
  },
  {
   "cell_type": "code",
   "execution_count": null,
   "metadata": {},
   "outputs": [],
   "source": [
    "K165.curr_home_sig.route"
   ]
  },
  {
   "cell_type": "code",
   "execution_count": null,
   "metadata": {},
   "outputs": [],
   "source": [
    "dp.get_route(sys.signal_points[8], 0, sys.signal_points[9],1,mainline=False)"
   ]
  },
  {
   "cell_type": "code",
   "execution_count": null,
   "metadata": {},
   "outputs": [],
   "source": [
    "dp.get_all_routes(sys.signal_points[8], 1, sys.signal_points[11], 0)"
   ]
  },
  {
   "cell_type": "code",
   "execution_count": null,
   "metadata": {
    "scrolled": true
   },
   "outputs": [],
   "source": [
    "shortest_path(sys.G_origin, sys.signal_points[8], sys.signal_points[8])"
   ]
  },
  {
   "cell_type": "code",
   "execution_count": null,
   "metadata": {},
   "outputs": [],
   "source": [
    "dp.get_route(sys.signal_points[8], 1, sys.signal_points[11], 0)"
   ]
  },
  {
   "cell_type": "code",
   "execution_count": null,
   "metadata": {},
   "outputs": [],
   "source": []
  }
 ],
 "metadata": {
  "kernelspec": {
   "display_name": "Python 3",
   "language": "python",
   "name": "python3"
  },
  "language_info": {
   "codemirror_mode": {
    "name": "ipython",
    "version": 3
   },
   "file_extension": ".py",
   "mimetype": "text/x-python",
   "name": "python",
   "nbconvert_exporter": "python",
   "pygments_lexer": "ipython3",
   "version": "3.7.3"
  }
 },
 "nbformat": 4,
 "nbformat_minor": 2
}
