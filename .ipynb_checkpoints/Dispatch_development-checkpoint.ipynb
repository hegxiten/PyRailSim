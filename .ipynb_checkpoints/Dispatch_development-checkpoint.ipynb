{
 "cells": [
  {
   "cell_type": "code",
   "execution_count": 1,
   "metadata": {},
   "outputs": [],
   "source": [
    "from datetime import datetime, timedelta\n",
    "import numpy as np\n",
    "import random\n",
    "import networkx as nx\n",
    "\n",
    "from simulation_core.infrastructure import *\n",
    "from simulation_core.signaling import *\n",
    "from simulation_core.network import *\n",
    "from simulation_core.train import *\n",
    "from simulation_core.dispatching.Dispatcher import Dispatcher\n",
    "from simulation_test.sim import *\n",
    "\n",
    "from itertools import combinations, permutations\n",
    "\n",
    "import matplotlib.pyplot as plt\n",
    "import matplotlib.dates as mdates\n",
    "\n",
    "\n",
    "\n",
    "sim_init_time = datetime.strptime('2018-01-10 10:00:00', \"%Y-%m-%d %H:%M:%S\")\n",
    "sim_term_time = datetime.strptime('2018-01-10 15:30:00', \"%Y-%m-%d %H:%M:%S\")\n",
    "spd_container = [random.uniform(0.01, 0.02) for i in range(20)]\n",
    "acc_container = [0.5*random.uniform(2.78e-05*0.85, 2.78e-05*1.15) for i in range(20)]\n",
    "dcc_container = [0.2*random.uniform(2.78e-05*0.85, 2.78e-05*1.15) for i in range(20)]\n",
    "headway = 300 + random.random() * 400\n",
    "sys = System(sim_init_time, spd_container, acc_container, dcc_container,\n",
    "             term_time=sim_term_time,\n",
    "             dos_period=['2018-01-10 11:30:00', '2018-01-10 12:30:00'],  \n",
    "             dos_pos=(15,20),\n",
    "             headway=headway, \n",
    "             refresh_time=50)\n",
    "dp = Dispatcher(sys)\n",
    "# K165 = Train(sys, \n",
    "#              ((sys.signal_points[0],1),(sys.signal_points[1],0)),\n",
    "#              ((sys.signal_points[10],1),(None,None)),\n",
    "#              max_spd=random.choice(sys.spd_container),\n",
    "#              max_acc=random.choice(sys.acc_container),\n",
    "#              max_dcc=random.choice(sys.dcc_container),\n",
    "#              length=1)\n",
    "# T165 = Train(sys, \n",
    "#              ((None,None),(sys.signal_points[0],0)),\n",
    "#              ((sys.signal_points[10],1),(None,None)),\n",
    "#              max_spd=K165.max_spd*1.02,\n",
    "#              max_acc=random.choice(sys.acc_container),\n",
    "#              max_dcc=random.choice(sys.dcc_container),\n",
    "#              length=1)\n",
    "# K166 = Train(sys, \n",
    "#              ((sys.signal_points[10],0),(sys.signal_points[9],1)),\n",
    "#              ((sys.signal_points[0],0),(None,None)),\n",
    "#              max_spd=random.choice(sys.spd_container),\n",
    "#              max_acc=random.choice(sys.acc_container),\n",
    "#              max_dcc=random.choice(sys.dcc_container),\n",
    "#              length=1)\n",
    "# T166 = Train(sys, \n",
    "#              ((None,None),(sys.signal_points[10],1)),\n",
    "#              ((sys.signal_points[0],0),(None,None)),\n",
    "#              max_spd=K166.max_spd*1.02,\n",
    "#              max_acc=random.choice(sys.acc_container),\n",
    "#              max_dcc=random.choice(sys.dcc_container),\n",
    "#              length=1)"
   ]
  },
  {
   "cell_type": "code",
   "execution_count": null,
   "metadata": {
    "scrolled": false
   },
   "outputs": [
    {
     "name": "stdout",
     "output_type": "stream",
     "text": [
      "train idx: 0 occupying:[((None, None), (CtrlPnt 0, 0))] head MP: 0.00 rear MP:-1.00, requested (0, 1) at 0.0\n",
      "\troute (0, 1) of CtrlPnt 0 is opened\n",
      "train train idx: 0 occupying:[((None, None), (CtrlPnt 0, 0))] head MP: 0.00 rear MP:-1.00 initiated, entering into Track <MP:  0.0~5.0  > <CtrlPnt 0 port: 1~AutoPnt 1 port: 0> key: 0\n",
      "\troute (0, 1) of CtrlPnt 0 is closed\n",
      "train idx: 0 occupying:[((CtrlPnt 0, 1), (AutoPnt 1, 0)), ((None, None), (CtrlPnt 0, 0))] head MP: 0.00 rear MP:-1.00, requested (0, 1) at 10.0\n",
      "\troute (0, 1) of CtrlPnt 2 is opened\n",
      "train idx: 1 occupying:[((None, None), (CtrlPnt 0, 0))] head MP: 0.00 rear MP:-1.00, requested (0, 1) at 0.0\n",
      "\troute (0, 1) of CtrlPnt 0 is opened\n",
      "train train idx: 1 occupying:[((None, None), (CtrlPnt 0, 0))] head MP: 0.00 rear MP:-1.00 initiated, entering into Track <MP:  0.0~5.0  > <CtrlPnt 0 port: 1~AutoPnt 1 port: 0> key: 0\n",
      "\troute (0, 1) of CtrlPnt 0 is closed\n",
      "\troute (0, 1) of CtrlPnt 2 is closed\n",
      "train idx: 0 occupying:[((CtrlPnt 2, 1), (CtrlPnt 3, 0)), ((AutoPnt 1, 1), (CtrlPnt 2, 0))] head MP:10.22 rear MP: 9.22, requested (0, 1) at 15.0\n",
      "\troute (0, 1) of CtrlPnt 3 is opened\n",
      "train idx: 1 occupying:[((CtrlPnt 0, 1), (AutoPnt 1, 0)), ((None, None), (CtrlPnt 0, 0))] head MP: 0.00 rear MP:-1.00, requested (0, 1) at 10.0\n",
      "\troute (0, 1) of CtrlPnt 2 is opened\n",
      "\troute (0, 1) of CtrlPnt 3 is closed\n",
      "train idx: 0 occupying:[((CtrlPnt 3, 1), (CtrlPnt 4, 0)), ((CtrlPnt 2, 1), (CtrlPnt 3, 0))] head MP:15.22 rear MP:14.22, requested (0, 1) at 20.0\n",
      "\troute (0, 1) of CtrlPnt 4 is opened\n",
      "train idx: 2 occupying:[((None, None), (CtrlPnt 0, 0))] head MP: 0.00 rear MP:-1.00, requested (0, 1) at 0.0\n",
      "\troute (0, 1) of CtrlPnt 0 is opened\n",
      "train train idx: 2 occupying:[((None, None), (CtrlPnt 0, 0))] head MP: 0.00 rear MP:-1.00 initiated, entering into Track <MP:  0.0~5.0  > <CtrlPnt 0 port: 1~AutoPnt 1 port: 0> key: 0\n",
      "\troute (0, 1) of CtrlPnt 0 is closed\n",
      "\troute (0, 1) of CtrlPnt 4 is closed\n",
      "\troute (0, 1) of CtrlPnt 2 is closed\n",
      "train idx: 0 occupying:[((CtrlPnt 4, 1), (CtrlPnt 5, 0)), ((CtrlPnt 3, 1), (CtrlPnt 4, 0))] head MP:20.22 rear MP:19.22, requested (0, 1) at 25.0\n",
      "\troute (0, 1) of CtrlPnt 5 is opened\n",
      "train idx: 1 occupying:[((CtrlPnt 2, 1), (CtrlPnt 3, 0)), ((AutoPnt 1, 1), (CtrlPnt 2, 0))] head MP:10.01 rear MP: 9.01, requested (0, 3) at 15.0\n",
      "\troute (0, 3) of CtrlPnt 3 is opened\n",
      "train idx: 2 occupying:[((CtrlPnt 0, 1), (AutoPnt 1, 0)), ((None, None), (CtrlPnt 0, 0))] head MP: 0.00 rear MP:-1.00, requested (0, 1) at 10.0\n",
      "\troute (0, 1) of CtrlPnt 2 is opened\n",
      "\troute (0, 1) of CtrlPnt 5 is closed\n",
      "\troute (0, 3) of CtrlPnt 3 is closed\n",
      "train idx: 0 occupying:[((CtrlPnt 5, 1), (CtrlPnt 6, 0)), ((CtrlPnt 4, 1), (CtrlPnt 5, 0))] head MP:25.22 rear MP:24.22, requested (0, 1) at 30.0\n",
      "\troute (0, 1) of CtrlPnt 6 is opened\n",
      "train idx: 1 occupying:[((CtrlPnt 3, 3), (CtrlPnt 4, 2)), ((CtrlPnt 2, 1), (CtrlPnt 3, 0))] head MP:15.01 rear MP:14.01, requested (2, 1) at 20.0\n",
      "\troute (2, 1) of CtrlPnt 4 is opened\n",
      "train idx: 3 occupying:[((None, None), (CtrlPnt 0, 0))] head MP: 0.00 rear MP:-1.00, requested (0, 1) at 0.0\n",
      "\troute (0, 1) of CtrlPnt 0 is opened\n",
      "train train idx: 3 occupying:[((None, None), (CtrlPnt 0, 0))] head MP: 0.00 rear MP:-1.00 initiated, entering into Track <MP:  0.0~5.0  > <CtrlPnt 0 port: 1~AutoPnt 1 port: 0> key: 0\n",
      "\troute (0, 1) of CtrlPnt 0 is closed\n",
      "\troute (0, 1) of CtrlPnt 6 is closed\n",
      "\troute (2, 1) of CtrlPnt 4 is closed\n",
      "train idx: 0 occupying:[((CtrlPnt 6, 1), (CtrlPnt 7, 0)), ((CtrlPnt 5, 1), (CtrlPnt 6, 0))] head MP:30.22 rear MP:29.22, requested (0, 1) at 35.0\n",
      "\troute (0, 1) of CtrlPnt 7 is opened\n",
      "train idx: 1 occupying:[((CtrlPnt 4, 1), (CtrlPnt 5, 0)), ((CtrlPnt 3, 3), (CtrlPnt 4, 2))] head MP:20.01 rear MP:19.01, requested (0, 3) at 25.0\n",
      "\troute (0, 3) of CtrlPnt 5 is opened\n",
      "\troute (0, 1) of CtrlPnt 2 is closed\n",
      "train idx: 2 occupying:[((CtrlPnt 2, 1), (CtrlPnt 3, 0)), ((AutoPnt 1, 1), (CtrlPnt 2, 0))] head MP:10.07 rear MP: 9.07, requested (0, 1) at 15.0\n",
      "\troute (0, 1) of CtrlPnt 3 is opened\n",
      "train idx: 3 occupying:[((CtrlPnt 0, 1), (AutoPnt 1, 0)), ((None, None), (CtrlPnt 0, 0))] head MP: 0.00 rear MP:-1.00, requested (0, 1) at 10.0\n",
      "\troute (0, 1) of CtrlPnt 2 is opened\n",
      "\troute (0, 1) of CtrlPnt 7 is closed\n",
      "\troute (0, 3) of CtrlPnt 5 is closed\n",
      "train idx: 0 occupying:[((CtrlPnt 7, 1), (CtrlPnt 8, 0)), ((CtrlPnt 6, 1), (CtrlPnt 7, 0))] head MP:35.22 rear MP:34.22, requested (0, 1) at 40.0\n",
      "\troute (0, 1) of CtrlPnt 8 is opened\n",
      "\troute (0, 1) of CtrlPnt 3 is closed\n",
      "train idx: 2 occupying:[((CtrlPnt 3, 1), (CtrlPnt 4, 0)), ((CtrlPnt 2, 1), (CtrlPnt 3, 0))] head MP:15.07 rear MP:14.07, requested (0, 1) at 20.0\n",
      "\troute (0, 1) of CtrlPnt 4 is opened\n",
      "train idx: 4 occupying:[((None, None), (CtrlPnt 0, 0))] head MP: 0.00 rear MP:-1.00, requested (0, 1) at 0.0\n",
      "\troute (0, 1) of CtrlPnt 0 is opened\n",
      "train train idx: 4 occupying:[((None, None), (CtrlPnt 0, 0))] head MP: 0.00 rear MP:-1.00 initiated, entering into Track <MP:  0.0~5.0  > <CtrlPnt 0 port: 1~AutoPnt 1 port: 0> key: 0\n",
      "\troute (0, 1) of CtrlPnt 0 is closed\n",
      "\troute (0, 1) of CtrlPnt 8 is closed\n",
      "train idx: 0 occupying:[((CtrlPnt 8, 1), (AutoPnt 9, 0)), ((CtrlPnt 7, 1), (CtrlPnt 8, 0))] head MP:40.22 rear MP:39.22, requested (0, 1) at 50.0\n",
      "\troute (0, 1) of CtrlPnt10 is opened\n",
      "\troute (0, 1) of CtrlPnt 4 is closed\n",
      "train idx: 2 occupying:[((CtrlPnt 4, 1), (CtrlPnt 5, 0)), ((CtrlPnt 3, 1), (CtrlPnt 4, 0))] head MP:20.07 rear MP:19.07, requested (0, 1) at 25.0\n",
      "\troute (0, 1) of CtrlPnt 5 is opened\n",
      "train idx: 1 occupying:[((AutoPnt11, 1), (AutoPnt12, 0))] head MP:34.66 rear MP:33.66, requested (2, 1) at 40.0\n",
      "\troute (2, 1) of CtrlPnt 8 is opened\n",
      "\troute (0, 1) of CtrlPnt 2 is closed\n",
      "train idx: 3 occupying:[((CtrlPnt 2, 1), (CtrlPnt 3, 0)), ((AutoPnt 1, 1), (CtrlPnt 2, 0))] head MP:10.22 rear MP: 9.22, requested (0, 3) at 15.0\n",
      "\troute (0, 3) of CtrlPnt 3 is opened\n",
      "train idx: 4 occupying:[((CtrlPnt 0, 1), (AutoPnt 1, 0)), ((None, None), (CtrlPnt 0, 0))] head MP: 0.00 rear MP:-1.00, requested (0, 1) at 10.0\n",
      "\troute (0, 1) of CtrlPnt 2 is opened\n",
      "\troute (0, 1) of CtrlPnt10 is closed\n",
      "\troute (0, 1) of CtrlPnt 5 is closed\n",
      "train idx: 2 occupying:[((CtrlPnt 5, 1), (CtrlPnt 6, 0)), ((CtrlPnt 4, 1), (CtrlPnt 5, 0))] head MP:25.07 rear MP:24.07, requested (0, 1) at 30.0\n",
      "\troute (0, 1) of CtrlPnt 6 is opened\n",
      "\troute (0, 3) of CtrlPnt 3 is closed\n",
      "\troute (2, 1) of CtrlPnt 8 is closed\n",
      "train idx: 3 occupying:[((CtrlPnt 3, 3), (CtrlPnt 4, 2)), ((CtrlPnt 2, 1), (CtrlPnt 3, 0))] head MP:15.22 rear MP:14.22, requested (2, 1) at 20.0\n",
      "\troute (2, 1) of CtrlPnt 4 is opened\n",
      "train idx: 1 occupying:[((CtrlPnt 8, 1), (AutoPnt 9, 0)), ((AutoPnt12, 1), (CtrlPnt 8, 2))] head MP:40.18 rear MP:39.18, requested (0, 1) at 50.0\n",
      "\troute (0, 1) of CtrlPnt10 is opened\n",
      "train idx: 5 occupying:[((None, None), (CtrlPnt 0, 0))] head MP: 0.00 rear MP:-1.00, requested (0, 1) at 0.0\n",
      "\troute (0, 1) of CtrlPnt 0 is opened\n",
      "train train idx: 5 occupying:[((None, None), (CtrlPnt 0, 0))] head MP: 0.00 rear MP:-1.00 initiated, entering into Track <MP:  0.0~5.0  > <CtrlPnt 0 port: 1~AutoPnt 1 port: 0> key: 0\n",
      "\troute (0, 1) of CtrlPnt 0 is closed\n",
      "\troute (0, 1) of CtrlPnt 6 is closed\n",
      "\troute (0, 1) of CtrlPnt 2 is closed\n",
      "\troute (2, 1) of CtrlPnt 4 is closed\n",
      "train idx: 4 occupying:[((CtrlPnt 2, 1), (CtrlPnt 3, 0)), ((AutoPnt 1, 1), (CtrlPnt 2, 0))] head MP:10.05 rear MP: 9.05, requested (0, 1) at 15.0\n",
      "\troute (0, 1) of CtrlPnt 3 is opened\n",
      "\troute (0, 1) of CtrlPnt10 is closed\n",
      "train idx: 3 occupying:[((CtrlPnt 4, 1), (CtrlPnt 5, 0)), ((CtrlPnt 3, 3), (CtrlPnt 4, 2))] head MP:20.22 rear MP:19.22, requested (0, 3) at 25.0\n",
      "\troute (0, 3) of CtrlPnt 5 is opened\n",
      "train idx: 5 occupying:[((CtrlPnt 0, 1), (AutoPnt 1, 0)), ((None, None), (CtrlPnt 0, 0))] head MP: 0.00 rear MP:-1.00, requested (0, 1) at 10.0\n",
      "\troute (0, 1) of CtrlPnt 2 is opened\n",
      "\troute (0, 1) of CtrlPnt 3 is closed\n",
      "\troute (0, 3) of CtrlPnt 5 is closed\n",
      "train idx: 3 occupying:[((CtrlPnt 5, 3), (AutoPnt11, 0)), ((CtrlPnt 4, 1), (CtrlPnt 5, 0))] head MP:25.22 rear MP:24.22, requested (2, 1) at 40.0\n",
      "\troute (2, 1) of CtrlPnt 8 is opened\n"
     ]
    }
   ],
   "source": [
    "def launch(downtrain=True):\n",
    "    while sys.sys_time - sys.init_time <= sys.term_time - sys.init_time:\n",
    "        _semaphore_to_return = False\n",
    "        for t in sys.trains:\n",
    "            t.request_routing()\n",
    "            t.update_acc()\n",
    "        if sys.sys_time+sys.refresh_time - sys.last_train_init_time >= sys.headway:\n",
    "            if downtrain:\n",
    "                if not sys.signal_points[0].curr_train_with_route.keys():\n",
    "                    if all([t.curr_routing_path_segment != ((None,None),(sys.signal_points[0],0)) for t in sys.trains]):\n",
    "                        if not sys.signal_points[0].track_by_port[1].trains:\n",
    "                            t = sys.generate_train( sys.signal_points[0],0,\n",
    "                                                    sys.signal_points[10],1,\n",
    "                                                    length=1)\n",
    "            else:\n",
    "                if not sys.signal_points[10].curr_train_with_route.keys():\n",
    "                    if all([t.curr_routing_path_segment != ((None,None),(sys.signal_points[10],1)) for t in sys.trains]):\n",
    "                        if not sys.signal_points[10].track_by_port[0].trains:\n",
    "                            t = sys.generate_train( sys.signal_points[10],1,\n",
    "                                                    sys.signal_points[0],0,\n",
    "                                                    length=1)\n",
    "        sys.sys_time+=sys.refresh_time\n",
    "# launch(downtrain=True)\n",
    "launch(downtrain=False)"
   ]
  },
  {
   "cell_type": "code",
   "execution_count": null,
   "metadata": {
    "scrolled": false
   },
   "outputs": [],
   "source": [
    "string_diagram(sys)"
   ]
  },
  {
   "cell_type": "code",
   "execution_count": null,
   "metadata": {},
   "outputs": [],
   "source": [
    "speed_curve(sys,sys.trains[3])"
   ]
  },
  {
   "cell_type": "code",
   "execution_count": null,
   "metadata": {},
   "outputs": [],
   "source": [
    "K165.curr_home_sig.route"
   ]
  },
  {
   "cell_type": "code",
   "execution_count": null,
   "metadata": {},
   "outputs": [],
   "source": [
    "dp.get_route(sys.signal_points[8], 0, sys.signal_points[9],1,mainline=False)"
   ]
  },
  {
   "cell_type": "code",
   "execution_count": null,
   "metadata": {},
   "outputs": [],
   "source": [
    "dp.get_all_routes(sys.signal_points[8], 1, sys.signal_points[11], 0)"
   ]
  },
  {
   "cell_type": "code",
   "execution_count": null,
   "metadata": {
    "scrolled": true
   },
   "outputs": [],
   "source": [
    "shortest_path(sys.G_origin, sys.signal_points[8], sys.signal_points[8])"
   ]
  },
  {
   "cell_type": "code",
   "execution_count": null,
   "metadata": {},
   "outputs": [],
   "source": [
    "dp.get_route(sys.signal_points[8], 1, sys.signal_points[11], 0)"
   ]
  },
  {
   "cell_type": "code",
   "execution_count": null,
   "metadata": {},
   "outputs": [],
   "source": []
  }
 ],
 "metadata": {
  "kernelspec": {
   "display_name": "Python 3",
   "language": "python",
   "name": "python3"
  },
  "language_info": {
   "codemirror_mode": {
    "name": "ipython",
    "version": 3
   },
   "file_extension": ".py",
   "mimetype": "text/x-python",
   "name": "python",
   "nbconvert_exporter": "python",
   "pygments_lexer": "ipython3",
   "version": "3.7.3"
  }
 },
 "nbformat": 4,
 "nbformat_minor": 2
}
