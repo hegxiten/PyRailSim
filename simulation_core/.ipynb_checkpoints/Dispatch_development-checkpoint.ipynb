{
 "cells": [
  {
   "cell_type": "code",
   "execution_count": 1,
   "metadata": {},
   "outputs": [
    {
     "ename": "ModuleNotFoundError",
     "evalue": "No module named 'simulation_core'",
     "output_type": "error",
     "traceback": [
      "\u001b[1;31m---------------------------------------------------------------------------\u001b[0m",
      "\u001b[1;31mModuleNotFoundError\u001b[0m                       Traceback (most recent call last)",
      "\u001b[1;32m<ipython-input-1-af5f2c255e3b>\u001b[0m in \u001b[0;36m<module>\u001b[1;34m\u001b[0m\n\u001b[0;32m      4\u001b[0m \u001b[1;32mfrom\u001b[0m \u001b[0minfrastructure\u001b[0m \u001b[1;32mimport\u001b[0m \u001b[1;33m*\u001b[0m\u001b[1;33m\u001b[0m\u001b[1;33m\u001b[0m\u001b[0m\n\u001b[0;32m      5\u001b[0m \u001b[1;32mfrom\u001b[0m \u001b[0msignaling\u001b[0m \u001b[1;32mimport\u001b[0m \u001b[1;33m*\u001b[0m\u001b[1;33m\u001b[0m\u001b[1;33m\u001b[0m\u001b[0m\n\u001b[1;32m----> 6\u001b[1;33m \u001b[1;32mfrom\u001b[0m \u001b[0msystem\u001b[0m \u001b[1;32mimport\u001b[0m \u001b[1;33m*\u001b[0m\u001b[1;33m\u001b[0m\u001b[1;33m\u001b[0m\u001b[0m\n\u001b[0m\u001b[0;32m      7\u001b[0m \u001b[1;32mfrom\u001b[0m \u001b[0mtrain\u001b[0m \u001b[1;32mimport\u001b[0m \u001b[1;33m*\u001b[0m\u001b[1;33m\u001b[0m\u001b[1;33m\u001b[0m\u001b[0m\n\u001b[0;32m      8\u001b[0m \u001b[1;32mfrom\u001b[0m \u001b[0mdispatch\u001b[0m \u001b[1;32mimport\u001b[0m \u001b[1;33m*\u001b[0m\u001b[1;33m\u001b[0m\u001b[1;33m\u001b[0m\u001b[0m\n",
      "\u001b[1;32m~\\Documents\\GitHub\\PyRailSim-SchedulingEngine\\simulation_core\\system.py\u001b[0m in \u001b[0;36m<module>\u001b[1;34m\u001b[0m\n\u001b[0;32m     26\u001b[0m \u001b[1;32mfrom\u001b[0m \u001b[0mrail_networkx\u001b[0m \u001b[1;32mimport\u001b[0m \u001b[0mall_simple_paths\u001b[0m\u001b[1;33m,\u001b[0m \u001b[0mshortest_path\u001b[0m\u001b[1;33m\u001b[0m\u001b[1;33m\u001b[0m\u001b[0m\n\u001b[0;32m     27\u001b[0m \u001b[1;32mfrom\u001b[0m \u001b[0minfrastructure\u001b[0m \u001b[1;32mimport\u001b[0m \u001b[0mBigBlock\u001b[0m\u001b[1;33m,\u001b[0m \u001b[0mTrack\u001b[0m\u001b[1;33m,\u001b[0m \u001b[0mYard\u001b[0m\u001b[1;33m\u001b[0m\u001b[1;33m\u001b[0m\u001b[0m\n\u001b[1;32m---> 28\u001b[1;33m \u001b[1;32mfrom\u001b[0m \u001b[0msimulation_core\u001b[0m\u001b[1;33m.\u001b[0m\u001b[0msignaling\u001b[0m\u001b[1;33m.\u001b[0m\u001b[0mInterlockingPoint\u001b[0m\u001b[1;33m.\u001b[0m\u001b[0mCtrlPoint\u001b[0m \u001b[1;32mimport\u001b[0m \u001b[0mCtrlPoint\u001b[0m\u001b[1;33m\u001b[0m\u001b[1;33m\u001b[0m\u001b[0m\n\u001b[0m\u001b[0;32m     29\u001b[0m \u001b[1;32mfrom\u001b[0m \u001b[0msimulation_core\u001b[0m\u001b[1;33m.\u001b[0m\u001b[0msignaling\u001b[0m\u001b[1;33m.\u001b[0m\u001b[0mInterlockingPoint\u001b[0m\u001b[1;33m.\u001b[0m\u001b[0mAutoPoint\u001b[0m \u001b[1;32mimport\u001b[0m \u001b[0mAutoPoint\u001b[0m\u001b[1;33m\u001b[0m\u001b[1;33m\u001b[0m\u001b[0m\n\u001b[0;32m     30\u001b[0m \u001b[1;32mfrom\u001b[0m \u001b[0msignaling\u001b[0m\u001b[1;33m.\u001b[0m\u001b[0mAspect\u001b[0m \u001b[1;32mimport\u001b[0m \u001b[0mAspect\u001b[0m\u001b[1;33m\u001b[0m\u001b[1;33m\u001b[0m\u001b[0m\n",
      "\u001b[1;31mModuleNotFoundError\u001b[0m: No module named 'simulation_core'"
     ]
    }
   ],
   "source": [
    "from datetime import datetime, timedelta\n",
    "import numpy as np\n",
    "import random\n",
    "from infrastructure import *\n",
    "from signaling import *\n",
    "from system import *\n",
    "from train import *\n",
    "from dispatch import *\n",
    "import networkx as nx\n",
    "from sim import *\n",
    "from rail_networkx import *\n",
    "from itertools import combinations, permutations\n",
    "\n",
    "import matplotlib.pyplot as plt\n",
    "import matplotlib.dates as mdates\n",
    "\n",
    "from rail_networkx import all_simple_paths, shortest_path\n",
    "\n",
    "\n",
    "sim_init_time = datetime.strptime('2018-01-10 10:00:00', \"%Y-%m-%d %H:%M:%S\")\n",
    "sim_term_time = datetime.strptime('2018-01-10 15:30:00', \"%Y-%m-%d %H:%M:%S\")\n",
    "spd_container = [random.uniform(0.01, 0.02) for i in range(20)]\n",
    "acc_container = [0.5*random.uniform(2.78e-05*0.85, 2.78e-05*1.15) for i in range(20)]\n",
    "dcc_container = [0.2*random.uniform(2.78e-05*0.85, 2.78e-05*1.15) for i in range(20)]\n",
    "headway = 300 + random.random() * 400\n",
    "sys = System(sim_init_time, spd_container, acc_container, dcc_container,\n",
    "             term_time=sim_term_time,\n",
    "             dos_period=['2018-01-10 11:30:00', '2018-01-10 12:30:00'],  \n",
    "             dos_pos=(15,20),\n",
    "             headway=headway, \n",
    "             refresh_time=50)\n",
    "dp = Dispatcher(sys)\n",
    "# K165 = Train(sys, \n",
    "#              ((sys.signal_points[0],1),(sys.signal_points[1],0)),\n",
    "#              ((sys.signal_points[10],1),(None,None)),\n",
    "#              max_spd=random.choice(sys.spd_container),\n",
    "#              max_acc=random.choice(sys.acc_container),\n",
    "#              max_dcc=random.choice(sys.dcc_container),\n",
    "#              length=1)\n",
    "# T165 = Train(sys, \n",
    "#              ((None,None),(sys.signal_points[0],0)),\n",
    "#              ((sys.signal_points[10],1),(None,None)),\n",
    "#              max_spd=K165.max_spd*1.02,\n",
    "#              max_acc=random.choice(sys.acc_container),\n",
    "#              max_dcc=random.choice(sys.dcc_container),\n",
    "#              length=1)\n",
    "# K166 = Train(sys, \n",
    "#              ((sys.signal_points[10],0),(sys.signal_points[9],1)),\n",
    "#              ((sys.signal_points[0],0),(None,None)),\n",
    "#              max_spd=random.choice(sys.spd_container),\n",
    "#              max_acc=random.choice(sys.acc_container),\n",
    "#              max_dcc=random.choice(sys.dcc_container),\n",
    "#              length=1)\n",
    "# T166 = Train(sys, \n",
    "#              ((None,None),(sys.signal_points[10],1)),\n",
    "#              ((sys.signal_points[0],0),(None,None)),\n",
    "#              max_spd=K166.max_spd*1.02,\n",
    "#              max_acc=random.choice(sys.acc_container),\n",
    "#              max_dcc=random.choice(sys.dcc_container),\n",
    "#              length=1)"
   ]
  },
  {
   "cell_type": "code",
   "execution_count": null,
   "metadata": {
    "scrolled": false
   },
   "outputs": [],
   "source": [
    "def launch(downtrain=True):\n",
    "    while sys.sys_time - sys.init_time <= sys.term_time - sys.init_time:\n",
    "        _semaphore_to_return = False\n",
    "        for t in sys.trains:\n",
    "            t.request_routing()\n",
    "            t.update_acc()\n",
    "        if sys.sys_time+sys.refresh_time - sys.last_train_init_time >= sys.headway:\n",
    "            if downtrain:\n",
    "                if not sys.signal_points[0].curr_train_with_route.keys():\n",
    "                    if all([t.curr_routing_path_segment != ((None,None),(sys.signal_points[0],0)) for t in sys.trains]):\n",
    "                        if not sys.signal_points[0].track_by_port[1].trains:\n",
    "                            t = sys.generate_train( sys.signal_points[0],0,\n",
    "                                                    sys.signal_points[10],1,\n",
    "                                                    length=1)\n",
    "            else:\n",
    "                if not sys.signal_points[10].curr_train_with_route.keys():\n",
    "                    if all([t.curr_routing_path_segment != ((None,None),(sys.signal_points[10],1)) for t in sys.trains]):\n",
    "                        if not sys.signal_points[10].track_by_port[0].trains:\n",
    "                            t = sys.generate_train( sys.signal_points[10],1,\n",
    "                                                    sys.signal_points[0],0,\n",
    "                                                    length=1)\n",
    "        sys.sys_time+=sys.refresh_time\n",
    "launch(downtrain=False)"
   ]
  },
  {
   "cell_type": "code",
   "execution_count": null,
   "metadata": {
    "scrolled": false
   },
   "outputs": [],
   "source": [
    "string_diagram(sys)"
   ]
  },
  {
   "cell_type": "code",
   "execution_count": null,
   "metadata": {},
   "outputs": [],
   "source": [
    "speed_curve(sys,sys.trains[3])"
   ]
  },
  {
   "cell_type": "code",
   "execution_count": null,
   "metadata": {},
   "outputs": [],
   "source": [
    "K165.curr_home_sig.route"
   ]
  },
  {
   "cell_type": "code",
   "execution_count": null,
   "metadata": {},
   "outputs": [],
   "source": [
    "dp.get_route(sys.signal_points[8], 0, sys.signal_points[9],1,mainline=False)"
   ]
  },
  {
   "cell_type": "code",
   "execution_count": null,
   "metadata": {},
   "outputs": [],
   "source": [
    "dp.get_all_routes(sys.signal_points[8], 1, sys.signal_points[11], 0)"
   ]
  },
  {
   "cell_type": "code",
   "execution_count": null,
   "metadata": {
    "scrolled": true
   },
   "outputs": [],
   "source": [
    "shortest_path(sys.G_origin, sys.signal_points[8], sys.signal_points[8])"
   ]
  },
  {
   "cell_type": "code",
   "execution_count": null,
   "metadata": {},
   "outputs": [],
   "source": [
    "dp.get_route(sys.signal_points[8], 1, sys.signal_points[11], 0)"
   ]
  },
  {
   "cell_type": "code",
   "execution_count": null,
   "metadata": {},
   "outputs": [],
   "source": []
  }
 ],
 "metadata": {
  "kernelspec": {
   "display_name": "Python 3",
   "language": "python",
   "name": "python3"
  },
  "language_info": {
   "codemirror_mode": {
    "name": "ipython",
    "version": 3
   },
   "file_extension": ".py",
   "mimetype": "text/x-python",
   "name": "python",
   "nbconvert_exporter": "python",
   "pygments_lexer": "ipython3",
   "version": "3.7.3"
  }
 },
 "nbformat": 4,
 "nbformat_minor": 2
}
